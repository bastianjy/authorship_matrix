{
 "cells": [
  {
   "cell_type": "code",
   "execution_count": 1,
   "metadata": {},
   "outputs": [
    {
     "data": {
      "application/vnd.jupyter.widget-view+json": {
       "model_id": "9dc76f7655204e0bb714f21ea7c52ab8",
       "version_major": 2,
       "version_minor": 0
      },
      "text/html": [
       "<p>Failed to display Jupyter Widget of type <code>Text</code>.</p>\n",
       "<p>\n",
       "  If you're reading this message in the Jupyter Notebook or JupyterLab Notebook, it may mean\n",
       "  that the widgets JavaScript is still loading. If this message persists, it\n",
       "  likely means that the widgets JavaScript library is either not installed or\n",
       "  not enabled. See the <a href=\"https://ipywidgets.readthedocs.io/en/stable/user_install.html\">Jupyter\n",
       "  Widgets Documentation</a> for setup instructions.\n",
       "</p>\n",
       "<p>\n",
       "  If you're reading this message in another frontend (for example, a static\n",
       "  rendering on GitHub or <a href=\"https://nbviewer.jupyter.org/\">NBViewer</a>),\n",
       "  it may mean that your frontend doesn't currently support widgets.\n",
       "</p>\n"
      ],
      "text/plain": [
       "Text(value='Author name', description='author', placeholder='Type something')"
      ]
     },
     "metadata": {},
     "output_type": "display_data"
    },
    {
     "data": {
      "application/vnd.jupyter.widget-view+json": {
       "model_id": "9301d4f2085245dbb34dd83ecd56bdbc",
       "version_major": 2,
       "version_minor": 0
      },
      "text/html": [
       "<p>Failed to display Jupyter Widget of type <code>Button</code>.</p>\n",
       "<p>\n",
       "  If you're reading this message in the Jupyter Notebook or JupyterLab Notebook, it may mean\n",
       "  that the widgets JavaScript is still loading. If this message persists, it\n",
       "  likely means that the widgets JavaScript library is either not installed or\n",
       "  not enabled. See the <a href=\"https://ipywidgets.readthedocs.io/en/stable/user_install.html\">Jupyter\n",
       "  Widgets Documentation</a> for setup instructions.\n",
       "</p>\n",
       "<p>\n",
       "  If you're reading this message in another frontend (for example, a static\n",
       "  rendering on GitHub or <a href=\"https://nbviewer.jupyter.org/\">NBViewer</a>),\n",
       "  it may mean that your frontend doesn't currently support widgets.\n",
       "</p>\n"
      ],
      "text/plain": [
       "Button(description='Update names', style=ButtonStyle())"
      ]
     },
     "metadata": {},
     "output_type": "display_data"
    },
    {
     "data": {
      "application/javascript": [
       "IPython.notebook.execute_cell_range(IPython.notebook.get_selected_index()+1, IPython.notebook.ncells())"
      ],
      "text/plain": [
       "<IPython.core.display.Javascript object>"
      ]
     },
     "metadata": {},
     "output_type": "display_data"
    },
    {
     "data": {
      "application/javascript": [
       "IPython.notebook.execute_cell_range(IPython.notebook.get_selected_index()+1, IPython.notebook.ncells())"
      ],
      "text/plain": [
       "<IPython.core.display.Javascript object>"
      ]
     },
     "metadata": {},
     "output_type": "display_data"
    }
   ],
   "source": [
    "import numpy as np\n",
    "import pandas as pd\n",
    "import ipywidgets as widgets\n",
    "from IPython.display import display\n",
    "from IPython.display import Javascript, display\n",
    "from ipywidgets import Text, HBox, VBox, Button\n",
    "\n",
    "authors = widgets.Text(value='Author name',placeholder='Type something', description=\"author\")\n",
    "display(authors)\n",
    "\n",
    "\n",
    "button = widgets.Button(description=\"Update names\")\n",
    "display(button)\n",
    "\n",
    "# Add author names to the list and refreshing next cells\n",
    "author_names = []\n",
    "def on_button_clicked(b):\n",
    "    author_names.append(authors.value)\n",
    "def run_all(ev):\n",
    "    display(Javascript('IPython.notebook.execute_cell_range(IPython.notebook.get_selected_index()+1, IPython.notebook.ncells())'))\n",
    "button.on_click(on_button_clicked)\n",
    "button.on_click(run_all)"
   ]
  },
  {
   "cell_type": "code",
   "execution_count": 7,
   "metadata": {},
   "outputs": [
    {
     "data": {
      "application/vnd.jupyter.widget-view+json": {
       "model_id": "9dfbf101b6784f8eb9c671cf17d7c60a",
       "version_major": 2,
       "version_minor": 0
      },
      "text/html": [
       "<p>Failed to display Jupyter Widget of type <code>Button</code>.</p>\n",
       "<p>\n",
       "  If you're reading this message in the Jupyter Notebook or JupyterLab Notebook, it may mean\n",
       "  that the widgets JavaScript is still loading. If this message persists, it\n",
       "  likely means that the widgets JavaScript library is either not installed or\n",
       "  not enabled. See the <a href=\"https://ipywidgets.readthedocs.io/en/stable/user_install.html\">Jupyter\n",
       "  Widgets Documentation</a> for setup instructions.\n",
       "</p>\n",
       "<p>\n",
       "  If you're reading this message in another frontend (for example, a static\n",
       "  rendering on GitHub or <a href=\"https://nbviewer.jupyter.org/\">NBViewer</a>),\n",
       "  it may mean that your frontend doesn't currently support widgets.\n",
       "</p>\n"
      ],
      "text/plain": [
       "Button(description='Add row', style=ButtonStyle())"
      ]
     },
     "metadata": {},
     "output_type": "display_data"
    },
    {
     "data": {
      "application/javascript": [
       "IPython.notebook.execute_cell_range(IPython.notebook.get_selected_index()+1, IPython.notebook.ncells())"
      ],
      "text/plain": [
       "<IPython.core.display.Javascript object>"
      ]
     },
     "metadata": {},
     "output_type": "display_data"
    },
    {
     "data": {
      "application/javascript": [
       "IPython.notebook.execute_cell_range(IPython.notebook.get_selected_index()+1, IPython.notebook.ncells())"
      ],
      "text/plain": [
       "<IPython.core.display.Javascript object>"
      ]
     },
     "metadata": {},
     "output_type": "display_data"
    }
   ],
   "source": [
    "#create the name_dict with values Task_value and Task\n",
    "name_dict={\"Task_value\" : pd.Series([],dtype=\"float32\"),\n",
    "          \"Task\" : pd.Series([],dtype=\"str\")}\n",
    "\n",
    "# create the input_contribution for all authors\n",
    "input_contribution = {\"Task\" : [\"Task\"], \"Task_value\" : [\"Task_value\"]}\n",
    "for i in range(0,len(author_names)):\n",
    "    input_contribution.update({author_names[i] : [author_names[i]]})\n",
    "\n",
    "# add value to input_contribution dict\n",
    "def on_button2_clicked(b):\n",
    "    for i in list(input_contribution):\n",
    "        input_contribution[i].append(0)\n",
    "       \n",
    "button2 = widgets.Button(description=\"Add row\")\n",
    "button2.on_click(on_button2_clicked)\n",
    "button2.on_click(run_all)\n",
    "display(button2)"
   ]
  },
  {
   "cell_type": "code",
   "execution_count": 14,
   "metadata": {
    "scrolled": true
   },
   "outputs": [
    {
     "data": {
      "application/vnd.jupyter.widget-view+json": {
       "model_id": "bffe6aa8ccbf403e972baa802e54395f",
       "version_major": 2,
       "version_minor": 0
      },
      "text/html": [
       "<p>Failed to display Jupyter Widget of type <code>HBox</code>.</p>\n",
       "<p>\n",
       "  If you're reading this message in the Jupyter Notebook or JupyterLab Notebook, it may mean\n",
       "  that the widgets JavaScript is still loading. If this message persists, it\n",
       "  likely means that the widgets JavaScript library is either not installed or\n",
       "  not enabled. See the <a href=\"https://ipywidgets.readthedocs.io/en/stable/user_install.html\">Jupyter\n",
       "  Widgets Documentation</a> for setup instructions.\n",
       "</p>\n",
       "<p>\n",
       "  If you're reading this message in another frontend (for example, a static\n",
       "  rendering on GitHub or <a href=\"https://nbviewer.jupyter.org/\">NBViewer</a>),\n",
       "  it may mean that your frontend doesn't currently support widgets.\n",
       "</p>\n"
      ],
      "text/plain": [
       "HBox(children=(VBox(children=(Text(value='Task', placeholder='Type something'), Text(value='0', placeholder='Type something'), Text(value='0', placeholder='Type something'))), VBox(children=(Text(value='Task_value', placeholder='Type something'), Text(value='0', placeholder='Type something'), Text(value='0', placeholder='Type something'))), VBox(children=(Text(value='au1', placeholder='Type something'), Text(value='0', placeholder='Type something'), Text(value='0', placeholder='Type something'))), VBox(children=(Text(value='au2', placeholder='Type something'), Text(value='0', placeholder='Type something'), Text(value='0', placeholder='Type something')))))"
      ]
     },
     "metadata": {},
     "output_type": "display_data"
    }
   ],
   "source": [
    "\n",
    "#define vertical boxes\n",
    "all_box=[]\n",
    "for i in list(input_contribution):\n",
    "    all_box.append(input_contribution[i])\n",
    "\n",
    "#divide all_box into a lists of Text objects\n",
    "v_box=[]\n",
    "input_contribution_list=dict()\n",
    "for i in range(0, len(input_contribution)):\n",
    "    all_box_str = [str(x) for x in all_box[i]]   \n",
    "    input_contribution_list.update({list(input_contribution)[i] : [Text(value=w, placeholder='Type something') for w in all_box_str]})\n",
    "    v_box.append(VBox(input_contribution_list[list(input_contribution)[i]]))    \n",
    "\n",
    "# show array of boxes\n",
    "HBox(v_box)"
   ]
  },
  {
   "cell_type": "code",
   "execution_count": 40,
   "metadata": {},
   "outputs": [
    {
     "data": {
      "text/html": [
       "<div>\n",
       "<style scoped>\n",
       "    .dataframe tbody tr th:only-of-type {\n",
       "        vertical-align: middle;\n",
       "    }\n",
       "\n",
       "    .dataframe tbody tr th {\n",
       "        vertical-align: top;\n",
       "    }\n",
       "\n",
       "    .dataframe thead th {\n",
       "        text-align: right;\n",
       "    }\n",
       "</style>\n",
       "<table border=\"1\" class=\"dataframe\">\n",
       "  <thead>\n",
       "    <tr style=\"text-align: right;\">\n",
       "      <th></th>\n",
       "      <th>Task</th>\n",
       "      <th>Task_value</th>\n",
       "      <th>au1</th>\n",
       "      <th>au2</th>\n",
       "    </tr>\n",
       "  </thead>\n",
       "  <tbody>\n",
       "    <tr>\n",
       "      <th>0</th>\n",
       "      <td>experimten</td>\n",
       "      <td>40.0</td>\n",
       "      <td>17.1429</td>\n",
       "      <td>22.8571</td>\n",
       "    </tr>\n",
       "    <tr>\n",
       "      <th>1</th>\n",
       "      <td>writing</td>\n",
       "      <td>60.0</td>\n",
       "      <td>24</td>\n",
       "      <td>36</td>\n",
       "    </tr>\n",
       "    <tr>\n",
       "      <th>0</th>\n",
       "      <td>Score</td>\n",
       "      <td>100.0</td>\n",
       "      <td>41.1429</td>\n",
       "      <td>58.8571</td>\n",
       "    </tr>\n",
       "  </tbody>\n",
       "</table>\n",
       "</div>"
      ],
      "text/plain": [
       "         Task  Task_value      au1      au2\n",
       "0  experimten        40.0  17.1429  22.8571\n",
       "1     writing        60.0       24       36\n",
       "0       Score       100.0  41.1429  58.8571"
      ]
     },
     "metadata": {},
     "output_type": "display_data"
    }
   ],
   "source": [
    "# extract values from input_contribution_list dict\n",
    "output_lists=[]\n",
    "for i in list(input_contribution):\n",
    "    output_lists.append([x.value for x in input_contribution_list[i]])\n",
    "# transpose output_lists\n",
    "output_lists = list(map(list, zip(*output_lists)))\n",
    "# create output_contribution df\n",
    "output_contribution = pd.DataFrame(output_lists[1:],columns=output_lists[0])\n",
    "\n",
    "# convert numbers back to float\n",
    "output_contribution.iloc[:,1:len(list(output_contribution))] = output_contribution.iloc[:,1:len(list(output_contribution))].applymap(float)\n",
    "\n",
    "# normalize Task_values to 100%\n",
    "output_contribution[\"Task_value\"]=[x/output_contribution[\"Task_value\"].sum() for x in output_contribution[\"Task_value\"]]\n",
    "\n",
    "# normalize author contributions to 100%\n",
    "for n in output_contribution.index:\n",
    "    output_contribution.loc[n,author_names] = [x/output_contribution.loc[n,author_names].sum() for x in output_contribution.loc[n,author_names]]\n",
    "\n",
    "# multiply author contributions with Task_values\n",
    "for n in output_contribution.index:\n",
    "    output_contribution.loc[n,author_names] = [output_contribution.loc[n,\"Task_value\"] * x for x in output_contribution.loc[n,author_names]]\n",
    "    \n",
    "# create row for scores and fill them with corresponding values\n",
    "results={\"Task\" : pd.Series([\"Score\"]), \"Task_value\" : output_contribution[\"Task_value\"].sum()}\n",
    "for i in range(0,len(author_names)):\n",
    "    results[author_names[i]]=pd.Series(output_contribution[author_names[i]].sum())\n",
    "dresults = pd.DataFrame(results,index=list(range(1)))\n",
    "\n",
    "# add scores to contribution matrix\n",
    "output_contribution = output_contribution.append(dresults)\n",
    "\n",
    "# multiply by 100 to get %\n",
    "output_contribution[author_names]=round(output_contribution[author_names]*100)\n",
    "output_contribution[\"Task_value\"]=round(output_contribution[\"Task_value\"]*100)\n",
    "display(output_contribution)"
   ]
  }
 ],
 "metadata": {
  "kernelspec": {
   "display_name": "Python 3",
   "language": "python",
   "name": "python3"
  },
  "language_info": {
   "codemirror_mode": {
    "name": "ipython",
    "version": 3
   },
   "file_extension": ".py",
   "mimetype": "text/x-python",
   "name": "python",
   "nbconvert_exporter": "python",
   "pygments_lexer": "ipython3",
   "version": "3.6.4"
  }
 },
 "nbformat": 4,
 "nbformat_minor": 2
}
