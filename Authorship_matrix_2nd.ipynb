{
 "cells": [
  {
   "cell_type": "code",
   "execution_count": 18,
   "metadata": {},
   "outputs": [
    {
     "data": {
      "application/vnd.jupyter.widget-view+json": {
       "model_id": "387a70ceaa5e47888a2186c0ccc45ea5",
       "version_major": 2,
       "version_minor": 0
      },
      "text/html": [
       "<p>Failed to display Jupyter Widget of type <code>Text</code>.</p>\n",
       "<p>\n",
       "  If you're reading this message in the Jupyter Notebook or JupyterLab Notebook, it may mean\n",
       "  that the widgets JavaScript is still loading. If this message persists, it\n",
       "  likely means that the widgets JavaScript library is either not installed or\n",
       "  not enabled. See the <a href=\"https://ipywidgets.readthedocs.io/en/stable/user_install.html\">Jupyter\n",
       "  Widgets Documentation</a> for setup instructions.\n",
       "</p>\n",
       "<p>\n",
       "  If you're reading this message in another frontend (for example, a static\n",
       "  rendering on GitHub or <a href=\"https://nbviewer.jupyter.org/\">NBViewer</a>),\n",
       "  it may mean that your frontend doesn't currently support widgets.\n",
       "</p>\n"
      ],
      "text/plain": [
       "Text(value='Author name', description='author', placeholder='Type something')"
      ]
     },
     "metadata": {},
     "output_type": "display_data"
    },
    {
     "data": {
      "application/vnd.jupyter.widget-view+json": {
       "model_id": "9af2bc815aaa4b95b8af6a52fd9b19df",
       "version_major": 2,
       "version_minor": 0
      },
      "text/html": [
       "<p>Failed to display Jupyter Widget of type <code>Button</code>.</p>\n",
       "<p>\n",
       "  If you're reading this message in the Jupyter Notebook or JupyterLab Notebook, it may mean\n",
       "  that the widgets JavaScript is still loading. If this message persists, it\n",
       "  likely means that the widgets JavaScript library is either not installed or\n",
       "  not enabled. See the <a href=\"https://ipywidgets.readthedocs.io/en/stable/user_install.html\">Jupyter\n",
       "  Widgets Documentation</a> for setup instructions.\n",
       "</p>\n",
       "<p>\n",
       "  If you're reading this message in another frontend (for example, a static\n",
       "  rendering on GitHub or <a href=\"https://nbviewer.jupyter.org/\">NBViewer</a>),\n",
       "  it may mean that your frontend doesn't currently support widgets.\n",
       "</p>\n"
      ],
      "text/plain": [
       "Button(description='Update names', style=ButtonStyle())"
      ]
     },
     "metadata": {},
     "output_type": "display_data"
    },
    {
     "data": {
      "application/javascript": [
       "IPython.notebook.execute_cell_range(IPython.notebook.get_selected_index()+1, IPython.notebook.ncells())"
      ],
      "text/plain": [
       "<IPython.core.display.Javascript object>"
      ]
     },
     "metadata": {},
     "output_type": "display_data"
    },
    {
     "data": {
      "application/javascript": [
       "IPython.notebook.execute_cell_range(IPython.notebook.get_selected_index()+1, IPython.notebook.ncells())"
      ],
      "text/plain": [
       "<IPython.core.display.Javascript object>"
      ]
     },
     "metadata": {},
     "output_type": "display_data"
    }
   ],
   "source": [
    "import numpy as np\n",
    "import pandas as pd\n",
    "import ipywidgets as widgets\n",
    "from IPython.display import display\n",
    "from IPython.display import Javascript, display\n",
    "from ipywidgets import Text, HBox, VBox, Button\n",
    "\n",
    "authors = widgets.Text(value='Author name',placeholder='Type something', description=\"author\")\n",
    "display(authors)\n",
    "\n",
    "\n",
    "button = widgets.Button(description=\"Update names\")\n",
    "display(button)\n",
    "\n",
    "# Add author names to the list and refreshing next cells\n",
    "author_names = []\n",
    "def on_button_clicked(b):\n",
    "    author_names.append(authors.value)\n",
    "def run_all(ev):\n",
    "    display(Javascript('IPython.notebook.execute_cell_range(IPython.notebook.get_selected_index()+1, IPython.notebook.ncells())'))\n",
    "button.on_click(on_button_clicked)\n",
    "button.on_click(run_all)"
   ]
  },
  {
   "cell_type": "code",
   "execution_count": 23,
   "metadata": {},
   "outputs": [
    {
     "data": {
      "application/vnd.jupyter.widget-view+json": {
       "model_id": "8c63f7829bf24bc7b982be87746a77b9",
       "version_major": 2,
       "version_minor": 0
      },
      "text/html": [
       "<p>Failed to display Jupyter Widget of type <code>Button</code>.</p>\n",
       "<p>\n",
       "  If you're reading this message in the Jupyter Notebook or JupyterLab Notebook, it may mean\n",
       "  that the widgets JavaScript is still loading. If this message persists, it\n",
       "  likely means that the widgets JavaScript library is either not installed or\n",
       "  not enabled. See the <a href=\"https://ipywidgets.readthedocs.io/en/stable/user_install.html\">Jupyter\n",
       "  Widgets Documentation</a> for setup instructions.\n",
       "</p>\n",
       "<p>\n",
       "  If you're reading this message in another frontend (for example, a static\n",
       "  rendering on GitHub or <a href=\"https://nbviewer.jupyter.org/\">NBViewer</a>),\n",
       "  it may mean that your frontend doesn't currently support widgets.\n",
       "</p>\n"
      ],
      "text/plain": [
       "Button(description='Add row', style=ButtonStyle())"
      ]
     },
     "metadata": {},
     "output_type": "display_data"
    }
   ],
   "source": [
    "#create the name_dict with values Task_value and Task\n",
    "name_dict={\"Task_value\" : pd.Series([],dtype=\"float32\"),\n",
    "          \"Task\" : pd.Series([],dtype=\"str\")}\n",
    "\n",
    "# create the input_contribution for all authors\n",
    "input_contribution = {\"Task\" : [\"Task\"], \"Task_value\" : [\"Task_value\"]}\n",
    "for i in range(0,len(author_names)):\n",
    "    input_contribution.update({author_names[i] : [author_names[i]]})\n",
    "\n",
    "# add value to input_contribution dict\n",
    "def on_button2_clicked(b):\n",
    "    for i in list(input_contribution):\n",
    "        input_contribution[i].append(0)\n",
    "       \n",
    "button2 = widgets.Button(description=\"Add row\")\n",
    "button2.on_click(on_button2_clicked)\n",
    "#button2.on_click(run_all)\n",
    "display(button2)"
   ]
  },
  {
   "cell_type": "code",
   "execution_count": 27,
   "metadata": {
    "scrolled": true
   },
   "outputs": [
    {
     "data": {
      "application/vnd.jupyter.widget-view+json": {
       "model_id": "59c7527ddfee489bbba60a139d344f24",
       "version_major": 2,
       "version_minor": 0
      },
      "text/html": [
       "<p>Failed to display Jupyter Widget of type <code>HBox</code>.</p>\n",
       "<p>\n",
       "  If you're reading this message in the Jupyter Notebook or JupyterLab Notebook, it may mean\n",
       "  that the widgets JavaScript is still loading. If this message persists, it\n",
       "  likely means that the widgets JavaScript library is either not installed or\n",
       "  not enabled. See the <a href=\"https://ipywidgets.readthedocs.io/en/stable/user_install.html\">Jupyter\n",
       "  Widgets Documentation</a> for setup instructions.\n",
       "</p>\n",
       "<p>\n",
       "  If you're reading this message in another frontend (for example, a static\n",
       "  rendering on GitHub or <a href=\"https://nbviewer.jupyter.org/\">NBViewer</a>),\n",
       "  it may mean that your frontend doesn't currently support widgets.\n",
       "</p>\n"
      ],
      "text/plain": [
       "HBox(children=(VBox(children=(Text(value='Task', placeholder='Type something'), Text(value='0', placeholder='Type something'))), VBox(children=(Text(value='Task_value', placeholder='Type something'), Text(value='0', placeholder='Type something'))), VBox(children=(Text(value='author1', placeholder='Type something'), Text(value='0', placeholder='Type something'))), VBox(children=(Text(value='author2', placeholder='Type something'), Text(value='0', placeholder='Type something')))))"
      ]
     },
     "metadata": {},
     "output_type": "display_data"
    }
   ],
   "source": [
    "\n",
    "#define vertical boxes\n",
    "all_box=[]\n",
    "for i in list(input_contribution):\n",
    "    all_box.append(input_contribution[i])\n",
    "\n",
    "#divide all_box into a lists of Text objects\n",
    "v_box=[]\n",
    "input_contribution_list=dict()\n",
    "for i in range(0, len(input_contribution)):\n",
    "    all_box_str = [str(x) for x in all_box[i]]   \n",
    "    input_contribution_list.update({list(input_contribution)[i] : [Text(value=w, placeholder='Type something') for w in all_box_str]})\n",
    "    v_box.append(VBox(input_contribution_list[list(input_contribution)[i]]))    \n",
    "\n",
    "# show array of boxes\n",
    "HBox(v_box)"
   ]
  },
  {
   "cell_type": "code",
   "execution_count": 29,
   "metadata": {},
   "outputs": [
    {
     "data": {
      "text/html": [
       "<div>\n",
       "<style scoped>\n",
       "    .dataframe tbody tr th:only-of-type {\n",
       "        vertical-align: middle;\n",
       "    }\n",
       "\n",
       "    .dataframe tbody tr th {\n",
       "        vertical-align: top;\n",
       "    }\n",
       "\n",
       "    .dataframe thead th {\n",
       "        text-align: right;\n",
       "    }\n",
       "</style>\n",
       "<table border=\"1\" class=\"dataframe\">\n",
       "  <thead>\n",
       "    <tr style=\"text-align: right;\">\n",
       "      <th></th>\n",
       "      <th>Task</th>\n",
       "      <th>Task_value</th>\n",
       "      <th>author1</th>\n",
       "      <th>author2</th>\n",
       "    </tr>\n",
       "  </thead>\n",
       "  <tbody>\n",
       "    <tr>\n",
       "      <th>0</th>\n",
       "      <td>experiment</td>\n",
       "      <td>100.0</td>\n",
       "      <td>30</td>\n",
       "      <td>70</td>\n",
       "    </tr>\n",
       "    <tr>\n",
       "      <th>0</th>\n",
       "      <td>Score</td>\n",
       "      <td>100.0</td>\n",
       "      <td>30</td>\n",
       "      <td>70</td>\n",
       "    </tr>\n",
       "  </tbody>\n",
       "</table>\n",
       "</div>"
      ],
      "text/plain": [
       "         Task  Task_value author1 author2\n",
       "0  experiment       100.0      30      70\n",
       "0       Score       100.0      30      70"
      ]
     },
     "metadata": {},
     "output_type": "display_data"
    }
   ],
   "source": [
    "# extract values from input_contribution_list dict\n",
    "output_lists=[]\n",
    "for i in list(input_contribution):\n",
    "    output_lists.append([x.value for x in input_contribution_list[i]])\n",
    "# transpose output_lists\n",
    "output_lists = list(map(list, zip(*output_lists)))\n",
    "# create output_contribution df\n",
    "output_contribution = pd.DataFrame(output_lists[1:],columns=output_lists[0])\n",
    "\n",
    "# convert numbers back to float\n",
    "output_contribution.iloc[:,1:len(list(output_contribution))] = output_contribution.iloc[:,1:len(list(output_contribution))].applymap(float)\n",
    "\n",
    "# normalize Task_values to 100%\n",
    "output_contribution[\"Task_value\"]=[x/output_contribution[\"Task_value\"].sum() for x in output_contribution[\"Task_value\"]]\n",
    "\n",
    "# normalize author contributions to 100%\n",
    "for n in output_contribution.index:\n",
    "    output_contribution.loc[n,author_names] = [x/output_contribution.loc[n,author_names].sum() for x in output_contribution.loc[n,author_names]]\n",
    "\n",
    "# multiply author contributions with Task_values\n",
    "for n in output_contribution.index:\n",
    "    output_contribution.loc[n,author_names] = [output_contribution.loc[n,\"Task_value\"] * x for x in output_contribution.loc[n,author_names]]\n",
    "    \n",
    "# create row for scores and fill them with corresponding values\n",
    "results={\"Task\" : pd.Series([\"Score\"]), \"Task_value\" : output_contribution[\"Task_value\"].sum()}\n",
    "for i in range(0,len(author_names)):\n",
    "    results[author_names[i]]=pd.Series(output_contribution[author_names[i]].sum())\n",
    "dresults = pd.DataFrame(results,index=list(range(1)))\n",
    "\n",
    "# add scores to contribution matrix\n",
    "output_contribution = output_contribution.append(dresults)\n",
    "\n",
    "# multiply by 100 to get %\n",
    "output_contribution[author_names]=round(output_contribution[author_names]*100)\n",
    "output_contribution[\"Task_value\"]=round(output_contribution[\"Task_value\"]*100)\n",
    "display(output_contribution)"
   ]
  }
 ],
 "metadata": {
  "kernelspec": {
   "display_name": "Python 3",
   "language": "python",
   "name": "python3"
  },
  "language_info": {
   "codemirror_mode": {
    "name": "ipython",
    "version": 3
   },
   "file_extension": ".py",
   "mimetype": "text/x-python",
   "name": "python",
   "nbconvert_exporter": "python",
   "pygments_lexer": "ipython3",
   "version": "3.6.4"
  },
  "widgets": {
   "application/vnd.jupyter.widget-state+json": {
    "state": {
     "001e5d6eb0bc4f599aa07caf054cca6c": {
      "model_module": "@jupyter-widgets/controls",
      "model_module_version": "1.1.0",
      "model_name": "VBoxModel",
      "state": {
       "children": [
        "IPY_MODEL_ebfc559eb7ee4277becd17180dda532b",
        "IPY_MODEL_249cfaed4950443988a825cee368cf48"
       ],
       "layout": "IPY_MODEL_c744943bca4d4bacaa431b98510b81d5"
      }
     },
     "004941d665944c94912b7a70ccb4439d": {
      "model_module": "@jupyter-widgets/base",
      "model_module_version": "1.0.0",
      "model_name": "LayoutModel",
      "state": {}
     },
     "0166398e55ff42c4a54b31df8fa72980": {
      "model_module": "@jupyter-widgets/controls",
      "model_module_version": "1.1.0",
      "model_name": "ButtonStyleModel",
      "state": {}
     },
     "02ab0835c82147fca96b9c9e4cadce90": {
      "model_module": "@jupyter-widgets/controls",
      "model_module_version": "1.1.0",
      "model_name": "TextModel",
      "state": {
       "layout": "IPY_MODEL_e9b0752daee24395bfebab697b10d783",
       "placeholder": "Type something",
       "style": "IPY_MODEL_a99d1a5522f74a63a40f8092101f1b93",
       "value": "1"
      }
     },
     "02e6b6e98acc4358a2b6ec6fa5239ab7": {
      "model_module": "@jupyter-widgets/controls",
      "model_module_version": "1.1.0",
      "model_name": "ButtonModel",
      "state": {
       "description": "Add row",
       "layout": "IPY_MODEL_732ebf41f9ea4e07be55f51f9561bd3c",
       "style": "IPY_MODEL_3e00d7959c5646bf96cad2ac9625f9c6"
      }
     },
     "0425eeab6f9e4afb9085df84780973dd": {
      "model_module": "@jupyter-widgets/controls",
      "model_module_version": "1.1.0",
      "model_name": "ButtonStyleModel",
      "state": {}
     },
     "0428689d29174b23aceb51efc6c492dc": {
      "model_module": "@jupyter-widgets/controls",
      "model_module_version": "1.1.0",
      "model_name": "ButtonStyleModel",
      "state": {}
     },
     "04567aee349640caa3e8d8f846f4bd61": {
      "model_module": "@jupyter-widgets/controls",
      "model_module_version": "1.1.0",
      "model_name": "HBoxModel",
      "state": {
       "children": [
        "IPY_MODEL_df00e97db65b4cba9c9db3b6ee096b55",
        "IPY_MODEL_0a063a79018d4c56b59ee86d42905c25",
        "IPY_MODEL_7302d11bb8234f0ca8e3521f6c4b4645"
       ],
       "layout": "IPY_MODEL_cc36c7f95e4848d2829a7b0fdf9727c5"
      }
     },
     "049a7bd9226b45c6b2adff88625b1a00": {
      "model_module": "@jupyter-widgets/base",
      "model_module_version": "1.0.0",
      "model_name": "LayoutModel",
      "state": {}
     },
     "04c94cb1af544ebaa3bea301144ffa5d": {
      "model_module": "@jupyter-widgets/base",
      "model_module_version": "1.0.0",
      "model_name": "LayoutModel",
      "state": {}
     },
     "054ea516b14c40d7aa04ad5b313f155a": {
      "model_module": "@jupyter-widgets/controls",
      "model_module_version": "1.1.0",
      "model_name": "DescriptionStyleModel",
      "state": {
       "description_width": ""
      }
     },
     "05a440731125474d8a9eaefe27442620": {
      "model_module": "@jupyter-widgets/controls",
      "model_module_version": "1.1.0",
      "model_name": "TextModel",
      "state": {
       "layout": "IPY_MODEL_383fc255d9e9497db77efc3149c56de9",
       "placeholder": "Type something",
       "style": "IPY_MODEL_9b42e04f3ce04b91b522abcc27295636",
       "value": "author"
      }
     },
     "05ba747513ff46b5bc77054aefa1307e": {
      "model_module": "@jupyter-widgets/base",
      "model_module_version": "1.0.0",
      "model_name": "LayoutModel",
      "state": {}
     },
     "05df859ddf974acf92290fe93de3c31d": {
      "model_module": "@jupyter-widgets/controls",
      "model_module_version": "1.1.0",
      "model_name": "TextModel",
      "state": {
       "layout": "IPY_MODEL_88221b75376e438abd1864139924a43f",
       "placeholder": "Type something",
       "style": "IPY_MODEL_69be7147acd6491fb30a50a137ae2dc3",
       "value": "Task_value"
      }
     },
     "062a6c182fd949d5be426f8d8cd406e4": {
      "model_module": "@jupyter-widgets/controls",
      "model_module_version": "1.1.0",
      "model_name": "TextModel",
      "state": {
       "description": "author",
       "layout": "IPY_MODEL_7eacd3fd3749410d9b90c8e1ad04feb7",
       "placeholder": "Type something",
       "style": "IPY_MODEL_2c00d266d26941a69c5d1f01b0a7d8c8",
       "value": "author"
      }
     },
     "064c9d671b014968959657ecc14707cb": {
      "model_module": "@jupyter-widgets/controls",
      "model_module_version": "1.1.0",
      "model_name": "VBoxModel",
      "state": {
       "children": [
        "IPY_MODEL_05df859ddf974acf92290fe93de3c31d"
       ],
       "layout": "IPY_MODEL_e81b51116da947ba9988a7c59cb1fe64"
      }
     },
     "070ec9b8d40741f4a487b15b6ab17d4c": {
      "model_module": "@jupyter-widgets/controls",
      "model_module_version": "1.1.0",
      "model_name": "DescriptionStyleModel",
      "state": {
       "description_width": ""
      }
     },
     "0727847047734d4dafe0e773b26cd3a6": {
      "model_module": "@jupyter-widgets/controls",
      "model_module_version": "1.1.0",
      "model_name": "VBoxModel",
      "state": {
       "children": [
        "IPY_MODEL_c22c0ab7d6c745688f1d9f227068ec38",
        "IPY_MODEL_48660fd5259347e2be1791bdf04e0be1"
       ],
       "layout": "IPY_MODEL_decbec55d3db4e989047cf950fd36265"
      }
     },
     "07b095667c4a4c7987407b11eecbade8": {
      "model_module": "@jupyter-widgets/controls",
      "model_module_version": "1.1.0",
      "model_name": "HBoxModel",
      "state": {
       "children": [
        "IPY_MODEL_8724bceb485c4ce5a846d92ef917aba7",
        "IPY_MODEL_1f4459bd8d8043dab7dc6a75b224e7c7",
        "IPY_MODEL_c57e6e0a25d94c33b2f562fec73ca6e8"
       ],
       "layout": "IPY_MODEL_e255665a227d4255898443189a068735"
      }
     },
     "0a063a79018d4c56b59ee86d42905c25": {
      "model_module": "@jupyter-widgets/controls",
      "model_module_version": "1.1.0",
      "model_name": "VBoxModel",
      "state": {
       "children": [
        "IPY_MODEL_6e7b852a76fa4b0eaee2d419d5876c27"
       ],
       "layout": "IPY_MODEL_9686c9a885af402e867053f377ff1f2c"
      }
     },
     "0b05f7755c26466f92297dcd83897daa": {
      "model_module": "@jupyter-widgets/base",
      "model_module_version": "1.0.0",
      "model_name": "LayoutModel",
      "state": {}
     },
     "0b93b93e83774dd99eb1d01860e7403b": {
      "model_module": "@jupyter-widgets/controls",
      "model_module_version": "1.1.0",
      "model_name": "VBoxModel",
      "state": {
       "children": [
        "IPY_MODEL_f3f727f2bf534776a36381756cc6e825",
        "IPY_MODEL_c14841923cd94f58b43c461d1023b364"
       ],
       "layout": "IPY_MODEL_2170a654ee4e416e99f739fdfdc3ce5c"
      }
     },
     "0c5baeab6d6d46ee904d8b0771156db7": {
      "model_module": "@jupyter-widgets/controls",
      "model_module_version": "1.1.0",
      "model_name": "TextModel",
      "state": {
       "layout": "IPY_MODEL_aef17da4be49427f859f3e945f47078d",
       "placeholder": "Type something",
       "style": "IPY_MODEL_37fe66ce91e1494d9ef5a220e5621cdb",
       "value": "100"
      }
     },
     "0ca55d145e1945cf88bdb98b3aa26738": {
      "model_module": "@jupyter-widgets/base",
      "model_module_version": "1.0.0",
      "model_name": "LayoutModel",
      "state": {}
     },
     "0de843d5ded3498ca61fe0a1184966c7": {
      "model_module": "@jupyter-widgets/base",
      "model_module_version": "1.0.0",
      "model_name": "LayoutModel",
      "state": {}
     },
     "0ea769773ac940ff9ecd25d9a15d0c67": {
      "model_module": "@jupyter-widgets/controls",
      "model_module_version": "1.1.0",
      "model_name": "HBoxModel",
      "state": {
       "children": [
        "IPY_MODEL_c827546db32743d5b5e1e6af7df0abc7",
        "IPY_MODEL_f7b5ac9f08d24dd3ad118d07cb333d35",
        "IPY_MODEL_630f809e84c147f1a6ba59417acb726a"
       ],
       "layout": "IPY_MODEL_8550f61b076b459ca74d61ab7e20cddd"
      }
     },
     "0ea78011174e4271bb9c17dd17ef6604": {
      "model_module": "@jupyter-widgets/controls",
      "model_module_version": "1.1.0",
      "model_name": "DescriptionStyleModel",
      "state": {
       "description_width": ""
      }
     },
     "0f4ce97aecce4ebcbd4826a30ec22749": {
      "model_module": "@jupyter-widgets/base",
      "model_module_version": "1.0.0",
      "model_name": "LayoutModel",
      "state": {}
     },
     "0f4d3843849a4432a176483026fe905b": {
      "model_module": "@jupyter-widgets/controls",
      "model_module_version": "1.1.0",
      "model_name": "ButtonModel",
      "state": {
       "description": "Update names",
       "layout": "IPY_MODEL_fb2eee587d274a26bfe79dab1bc3f59f",
       "style": "IPY_MODEL_87b434dd91534eed88d8adccacee6288"
      }
     },
     "0fc823af799d40f499ca4d48de514a93": {
      "model_module": "@jupyter-widgets/controls",
      "model_module_version": "1.1.0",
      "model_name": "DescriptionStyleModel",
      "state": {
       "description_width": ""
      }
     },
     "0fe38b6eacbe4127bc12c40b71f70900": {
      "model_module": "@jupyter-widgets/controls",
      "model_module_version": "1.1.0",
      "model_name": "TextModel",
      "state": {
       "layout": "IPY_MODEL_7eeca638fc3241d88f5886c5935ae32f",
       "placeholder": "Type something",
       "style": "IPY_MODEL_3b6bf10bd19f4fa8a1edf35a6bd780d1",
       "value": "Task_value"
      }
     },
     "11ebc893d592411d9cab92b93aa8fcdd": {
      "model_module": "@jupyter-widgets/controls",
      "model_module_version": "1.1.0",
      "model_name": "HBoxModel",
      "state": {
       "children": [
        "IPY_MODEL_a4c5250d2eba4c4f9492189bae7a6027",
        "IPY_MODEL_dfde172b52934fe0a91f17b2b85bf0dd",
        "IPY_MODEL_8a393d6178a04b1085c3eff86859756c"
       ],
       "layout": "IPY_MODEL_6a82b640dcc14f7fa6917fdd068912e2"
      }
     },
     "155891248f69425f88dff80b36ad101b": {
      "model_module": "@jupyter-widgets/controls",
      "model_module_version": "1.1.0",
      "model_name": "DescriptionStyleModel",
      "state": {
       "description_width": ""
      }
     },
     "1574b56fe916475c925dd6213714fc7c": {
      "model_module": "@jupyter-widgets/controls",
      "model_module_version": "1.1.0",
      "model_name": "DescriptionStyleModel",
      "state": {
       "description_width": ""
      }
     },
     "1593e03f21204f14bc8fc5e4740fd866": {
      "model_module": "@jupyter-widgets/controls",
      "model_module_version": "1.1.0",
      "model_name": "TextModel",
      "state": {
       "layout": "IPY_MODEL_bb06a1ed342a44a4a94727b7a068f305",
       "placeholder": "Type something",
       "style": "IPY_MODEL_a1e91b0eab05416f8342959ba2d069f3",
       "value": "Task"
      }
     },
     "17d76b9548f14407945988507738164e": {
      "model_module": "@jupyter-widgets/controls",
      "model_module_version": "1.1.0",
      "model_name": "DescriptionStyleModel",
      "state": {
       "description_width": ""
      }
     },
     "19c8413cfbb24748af8be85dd4048955": {
      "model_module": "@jupyter-widgets/controls",
      "model_module_version": "1.1.0",
      "model_name": "VBoxModel",
      "state": {
       "children": [
        "IPY_MODEL_c5d0c04b60ad4728abe0118615ad242e",
        "IPY_MODEL_a436b2de592b44a2b60e8d5b47b3913d"
       ],
       "layout": "IPY_MODEL_43f43c4ca20344fcb2774ca075535fe7"
      }
     },
     "1a25b4422eed4884865fbfb959125d6e": {
      "model_module": "@jupyter-widgets/controls",
      "model_module_version": "1.1.0",
      "model_name": "TextModel",
      "state": {
       "layout": "IPY_MODEL_22d665e479554f74b4a1ec528348dd8e",
       "placeholder": "Type something",
       "style": "IPY_MODEL_0ea78011174e4271bb9c17dd17ef6604",
       "value": "Task_value"
      }
     },
     "1a7317d521d94524a906436cbd7c88a8": {
      "model_module": "@jupyter-widgets/base",
      "model_module_version": "1.0.0",
      "model_name": "LayoutModel",
      "state": {}
     },
     "1af963c814a74087abb33ccba4320dfc": {
      "model_module": "@jupyter-widgets/controls",
      "model_module_version": "1.1.0",
      "model_name": "ButtonModel",
      "state": {
       "description": "Add row",
       "layout": "IPY_MODEL_60a0e470be0a4bb789b209087615497e",
       "style": "IPY_MODEL_0425eeab6f9e4afb9085df84780973dd"
      }
     },
     "1d02b02b944a4053b9b5b1ef7986d0b2": {
      "model_module": "@jupyter-widgets/base",
      "model_module_version": "1.0.0",
      "model_name": "LayoutModel",
      "state": {}
     },
     "1d054005aa854e378eb10c6da99bcb19": {
      "model_module": "@jupyter-widgets/controls",
      "model_module_version": "1.1.0",
      "model_name": "DescriptionStyleModel",
      "state": {
       "description_width": ""
      }
     },
     "1f4459bd8d8043dab7dc6a75b224e7c7": {
      "model_module": "@jupyter-widgets/controls",
      "model_module_version": "1.1.0",
      "model_name": "VBoxModel",
      "state": {
       "children": [
        "IPY_MODEL_f6bd3becf7b94715bc7ddc80183b0092",
        "IPY_MODEL_02ab0835c82147fca96b9c9e4cadce90"
       ],
       "layout": "IPY_MODEL_85990da13d11431e92858012d18ed4da"
      }
     },
     "206f86c9f14d4d1c939357c8c32aa282": {
      "model_module": "@jupyter-widgets/controls",
      "model_module_version": "1.1.0",
      "model_name": "DescriptionStyleModel",
      "state": {
       "description_width": ""
      }
     },
     "20c5108d30ac4e5e81f7100c5f035f61": {
      "model_module": "@jupyter-widgets/base",
      "model_module_version": "1.0.0",
      "model_name": "LayoutModel",
      "state": {}
     },
     "20d673e7842948bfb19e1b3fe36cb164": {
      "model_module": "@jupyter-widgets/controls",
      "model_module_version": "1.1.0",
      "model_name": "DescriptionStyleModel",
      "state": {
       "description_width": ""
      }
     },
     "2170a654ee4e416e99f739fdfdc3ce5c": {
      "model_module": "@jupyter-widgets/base",
      "model_module_version": "1.0.0",
      "model_name": "LayoutModel",
      "state": {}
     },
     "21dd6dde60f84e088a41b4a2a606b543": {
      "model_module": "@jupyter-widgets/controls",
      "model_module_version": "1.1.0",
      "model_name": "VBoxModel",
      "state": {
       "children": [
        "IPY_MODEL_617bb2a401f14ba5b4c5cb376fb2ca38"
       ],
       "layout": "IPY_MODEL_792febe5c78d4444a115d3c20ad7353f"
      }
     },
     "22425801fa774a46b23bb8489145def4": {
      "model_module": "@jupyter-widgets/controls",
      "model_module_version": "1.1.0",
      "model_name": "DescriptionStyleModel",
      "state": {
       "description_width": ""
      }
     },
     "22d665e479554f74b4a1ec528348dd8e": {
      "model_module": "@jupyter-widgets/base",
      "model_module_version": "1.0.0",
      "model_name": "LayoutModel",
      "state": {}
     },
     "2312fb5ce80d44d9a32ab7bb98911154": {
      "model_module": "@jupyter-widgets/controls",
      "model_module_version": "1.1.0",
      "model_name": "TextModel",
      "state": {
       "layout": "IPY_MODEL_a9c9c03a4731434cb0a4164b412239ea",
       "placeholder": "Type something",
       "style": "IPY_MODEL_d5ca16e1482d4ea4911bca840d666a28",
       "value": "author1"
      }
     },
     "23973b486db546978aec6b0104f8fd61": {
      "model_module": "@jupyter-widgets/base",
      "model_module_version": "1.0.0",
      "model_name": "LayoutModel",
      "state": {}
     },
     "249cfaed4950443988a825cee368cf48": {
      "model_module": "@jupyter-widgets/controls",
      "model_module_version": "1.1.0",
      "model_name": "TextModel",
      "state": {
       "layout": "IPY_MODEL_f4ed3eb04f6c475584d0b798b3aa3234",
       "placeholder": "Type something",
       "style": "IPY_MODEL_ceeb994a4cfe4eefb721ab519053bb80",
       "value": "1"
      }
     },
     "24fb15a0d01a495abee26c91fd813379": {
      "model_module": "@jupyter-widgets/controls",
      "model_module_version": "1.1.0",
      "model_name": "TextModel",
      "state": {
       "layout": "IPY_MODEL_d21878eb62e04b28aa13eb2eb4120461",
       "placeholder": "Type something",
       "style": "IPY_MODEL_b8b20c9627774cbeb72a9271cb9ddfeb",
       "value": "experiment"
      }
     },
     "252b278ebdac41bfa992f5da7de05650": {
      "model_module": "@jupyter-widgets/controls",
      "model_module_version": "1.1.0",
      "model_name": "TextModel",
      "state": {
       "layout": "IPY_MODEL_4b2528b0b0a04950b9546c1fe15bb775",
       "placeholder": "Type something",
       "style": "IPY_MODEL_59a797c5b20148aea3ed4be549117837",
       "value": "1"
      }
     },
     "25555e88a47b4a1695b8e68c31004b96": {
      "model_module": "@jupyter-widgets/controls",
      "model_module_version": "1.1.0",
      "model_name": "TextModel",
      "state": {
       "layout": "IPY_MODEL_37b95d80eb72472db55c09dfae34538f",
       "placeholder": "Type something",
       "style": "IPY_MODEL_054ea516b14c40d7aa04ad5b313f155a",
       "value": "1"
      }
     },
     "26cf7ed3b700423792d750af2ea35575": {
      "model_module": "@jupyter-widgets/base",
      "model_module_version": "1.0.0",
      "model_name": "LayoutModel",
      "state": {}
     },
     "270170e137f040da8247b8c9ac26d09c": {
      "model_module": "@jupyter-widgets/base",
      "model_module_version": "1.0.0",
      "model_name": "LayoutModel",
      "state": {}
     },
     "27154b1f112141ad9142bbfd1dbb821f": {
      "model_module": "@jupyter-widgets/base",
      "model_module_version": "1.0.0",
      "model_name": "LayoutModel",
      "state": {}
     },
     "28f1cd33fa5c41879562a021d3c1bf5f": {
      "model_module": "@jupyter-widgets/base",
      "model_module_version": "1.0.0",
      "model_name": "LayoutModel",
      "state": {}
     },
     "2bf75fc7744d4699b9c5b174a1f9d9fa": {
      "model_module": "@jupyter-widgets/base",
      "model_module_version": "1.0.0",
      "model_name": "LayoutModel",
      "state": {}
     },
     "2c00d266d26941a69c5d1f01b0a7d8c8": {
      "model_module": "@jupyter-widgets/controls",
      "model_module_version": "1.1.0",
      "model_name": "DescriptionStyleModel",
      "state": {
       "description_width": ""
      }
     },
     "2cca0cfb82104dd5a9699ac50ac7e436": {
      "model_module": "@jupyter-widgets/controls",
      "model_module_version": "1.1.0",
      "model_name": "VBoxModel",
      "state": {
       "children": [
        "IPY_MODEL_589d27ae2bd84e9b8a1d459be7130903",
        "IPY_MODEL_0c5baeab6d6d46ee904d8b0771156db7"
       ],
       "layout": "IPY_MODEL_28f1cd33fa5c41879562a021d3c1bf5f"
      }
     },
     "2d110f70f9ca466dba7c78d7ef7760c5": {
      "model_module": "@jupyter-widgets/base",
      "model_module_version": "1.0.0",
      "model_name": "LayoutModel",
      "state": {}
     },
     "2d4cb314f1804d9cb5717ba2d8e8bb32": {
      "model_module": "@jupyter-widgets/base",
      "model_module_version": "1.0.0",
      "model_name": "LayoutModel",
      "state": {}
     },
     "2da1993d7a074898a84b2232bf4d8de8": {
      "model_module": "@jupyter-widgets/controls",
      "model_module_version": "1.1.0",
      "model_name": "DescriptionStyleModel",
      "state": {
       "description_width": ""
      }
     },
     "3159838dbcd84c379a323bcb24caeab5": {
      "model_module": "@jupyter-widgets/controls",
      "model_module_version": "1.1.0",
      "model_name": "VBoxModel",
      "state": {
       "children": [
        "IPY_MODEL_31918ded929e4f64b3544add133185b4"
       ],
       "layout": "IPY_MODEL_c47e7d3258f143da9a462f76744a30f2"
      }
     },
     "31918ded929e4f64b3544add133185b4": {
      "model_module": "@jupyter-widgets/controls",
      "model_module_version": "1.1.0",
      "model_name": "TextModel",
      "state": {
       "layout": "IPY_MODEL_bd175e8bcd9c4d4cb8a560345ec144cd",
       "placeholder": "Type something",
       "style": "IPY_MODEL_2da1993d7a074898a84b2232bf4d8de8",
       "value": "Task_value"
      }
     },
     "31c2cb823708456fb70c7b66dd6edab7": {
      "model_module": "@jupyter-widgets/controls",
      "model_module_version": "1.1.0",
      "model_name": "ButtonModel",
      "state": {
       "description": "Update names",
       "layout": "IPY_MODEL_4a713d231cdf4f80acfdc1e9c5e5f389",
       "style": "IPY_MODEL_3947cd8ee4124277a41a5b10b886a12c"
      }
     },
     "31e7894cf88b43c5a1007e8d893d240d": {
      "model_module": "@jupyter-widgets/controls",
      "model_module_version": "1.1.0",
      "model_name": "TextModel",
      "state": {
       "layout": "IPY_MODEL_4063a7bd8ddf4b848964fde58d38bcec",
       "placeholder": "Type something",
       "style": "IPY_MODEL_d435fd58eec3492489a3b89a590b9487",
       "value": "experiment"
      }
     },
     "32a7e716c1094bb08d6e38d45fd29b73": {
      "model_module": "@jupyter-widgets/controls",
      "model_module_version": "1.1.0",
      "model_name": "TextModel",
      "state": {
       "description": "author",
       "layout": "IPY_MODEL_7a6bfd0581bb4027a4981cb9fad54d63",
       "placeholder": "Type something",
       "style": "IPY_MODEL_1574b56fe916475c925dd6213714fc7c",
       "value": "author"
      }
     },
     "344beb0755ae4610b1e27382cccb222c": {
      "model_module": "@jupyter-widgets/base",
      "model_module_version": "1.0.0",
      "model_name": "LayoutModel",
      "state": {}
     },
     "34e547471c124a1c9e4216d888ba65cb": {
      "model_module": "@jupyter-widgets/controls",
      "model_module_version": "1.1.0",
      "model_name": "DescriptionStyleModel",
      "state": {
       "description_width": ""
      }
     },
     "351cd7c61da84dc18014e7de1fa8cac2": {
      "model_module": "@jupyter-widgets/controls",
      "model_module_version": "1.1.0",
      "model_name": "ButtonModel",
      "state": {
       "description": "Add row",
       "layout": "IPY_MODEL_4a819e381a2a4d5eaeb5d57f78ec08f7",
       "style": "IPY_MODEL_36c11977410f46f8b90b0bfeb0119862"
      }
     },
     "3680ad28e6f1474d9d58cd559743dbba": {
      "model_module": "@jupyter-widgets/controls",
      "model_module_version": "1.1.0",
      "model_name": "DescriptionStyleModel",
      "state": {
       "description_width": ""
      }
     },
     "36c11977410f46f8b90b0bfeb0119862": {
      "model_module": "@jupyter-widgets/controls",
      "model_module_version": "1.1.0",
      "model_name": "ButtonStyleModel",
      "state": {}
     },
     "37b95d80eb72472db55c09dfae34538f": {
      "model_module": "@jupyter-widgets/base",
      "model_module_version": "1.0.0",
      "model_name": "LayoutModel",
      "state": {}
     },
     "37fe66ce91e1494d9ef5a220e5621cdb": {
      "model_module": "@jupyter-widgets/controls",
      "model_module_version": "1.1.0",
      "model_name": "DescriptionStyleModel",
      "state": {
       "description_width": ""
      }
     },
     "380bd4562cfd43ccb9bd2a16941e4cfd": {
      "model_module": "@jupyter-widgets/base",
      "model_module_version": "1.0.0",
      "model_name": "LayoutModel",
      "state": {}
     },
     "383fc255d9e9497db77efc3149c56de9": {
      "model_module": "@jupyter-widgets/base",
      "model_module_version": "1.0.0",
      "model_name": "LayoutModel",
      "state": {}
     },
     "387a70ceaa5e47888a2186c0ccc45ea5": {
      "model_module": "@jupyter-widgets/controls",
      "model_module_version": "1.1.0",
      "model_name": "TextModel",
      "state": {
       "description": "author",
       "layout": "IPY_MODEL_4bf89e4306ed4bf6961ed80c01ba2fce",
       "placeholder": "Type something",
       "style": "IPY_MODEL_9e62e5d0de894161922a0a8ed82e616e",
       "value": "author2"
      }
     },
     "3947cd8ee4124277a41a5b10b886a12c": {
      "model_module": "@jupyter-widgets/controls",
      "model_module_version": "1.1.0",
      "model_name": "ButtonStyleModel",
      "state": {}
     },
     "39a020f0152949669818ce4cba81cdf9": {
      "model_module": "@jupyter-widgets/base",
      "model_module_version": "1.0.0",
      "model_name": "LayoutModel",
      "state": {}
     },
     "3aeb27923ff346b5a05fd99242417174": {
      "model_module": "@jupyter-widgets/base",
      "model_module_version": "1.0.0",
      "model_name": "LayoutModel",
      "state": {}
     },
     "3af5ed8c8e69493b8e246d2938a70176": {
      "model_module": "@jupyter-widgets/base",
      "model_module_version": "1.0.0",
      "model_name": "LayoutModel",
      "state": {}
     },
     "3afec0f85cef4e96965f727a5e280563": {
      "model_module": "@jupyter-widgets/controls",
      "model_module_version": "1.1.0",
      "model_name": "TextModel",
      "state": {
       "layout": "IPY_MODEL_2d110f70f9ca466dba7c78d7ef7760c5",
       "placeholder": "Type something",
       "style": "IPY_MODEL_ae31d49b16bb494397aa91ddc2c9cf68",
       "value": "30"
      }
     },
     "3b6bf10bd19f4fa8a1edf35a6bd780d1": {
      "model_module": "@jupyter-widgets/controls",
      "model_module_version": "1.1.0",
      "model_name": "DescriptionStyleModel",
      "state": {
       "description_width": ""
      }
     },
     "3c9200def62042e390561ac7872fe2d6": {
      "model_module": "@jupyter-widgets/base",
      "model_module_version": "1.0.0",
      "model_name": "LayoutModel",
      "state": {}
     },
     "3df69b75e9aa4070b1ec133b4c71ba42": {
      "model_module": "@jupyter-widgets/base",
      "model_module_version": "1.0.0",
      "model_name": "LayoutModel",
      "state": {}
     },
     "3e00d7959c5646bf96cad2ac9625f9c6": {
      "model_module": "@jupyter-widgets/controls",
      "model_module_version": "1.1.0",
      "model_name": "ButtonStyleModel",
      "state": {}
     },
     "3e702565ea764cdb89ab9725c8bb2d48": {
      "model_module": "@jupyter-widgets/controls",
      "model_module_version": "1.1.0",
      "model_name": "TextModel",
      "state": {
       "layout": "IPY_MODEL_8230e6171b7a400ea93b9d56deb338a6",
       "placeholder": "Type something",
       "style": "IPY_MODEL_cdb58a4c8dce4f45bcb28ca82e617bca",
       "value": "1"
      }
     },
     "3eb3b9d6631945589c8bdc15a6d3b1e0": {
      "model_module": "@jupyter-widgets/controls",
      "model_module_version": "1.1.0",
      "model_name": "DescriptionStyleModel",
      "state": {
       "description_width": ""
      }
     },
     "3f1eac4046ed46f086e502506081c0e3": {
      "model_module": "@jupyter-widgets/base",
      "model_module_version": "1.0.0",
      "model_name": "LayoutModel",
      "state": {}
     },
     "3f449734019b419baad19a54b098c628": {
      "model_module": "@jupyter-widgets/controls",
      "model_module_version": "1.1.0",
      "model_name": "TextModel",
      "state": {
       "layout": "IPY_MODEL_39a020f0152949669818ce4cba81cdf9",
       "placeholder": "Type something",
       "style": "IPY_MODEL_a61cbda813284c9399c6bb08478be0b5",
       "value": "experiment"
      }
     },
     "4063a7bd8ddf4b848964fde58d38bcec": {
      "model_module": "@jupyter-widgets/base",
      "model_module_version": "1.0.0",
      "model_name": "LayoutModel",
      "state": {}
     },
     "4133bb9d30b64c8186fddfce0e361992": {
      "model_module": "@jupyter-widgets/controls",
      "model_module_version": "1.1.0",
      "model_name": "HBoxModel",
      "state": {
       "children": [
        "IPY_MODEL_60d38667c80d49e794cb2a2eac6333e3",
        "IPY_MODEL_2cca0cfb82104dd5a9699ac50ac7e436",
        "IPY_MODEL_0b93b93e83774dd99eb1d01860e7403b"
       ],
       "layout": "IPY_MODEL_3f1eac4046ed46f086e502506081c0e3"
      }
     },
     "42b4bf6d018e4493936b606198fdea31": {
      "model_module": "@jupyter-widgets/controls",
      "model_module_version": "1.1.0",
      "model_name": "TextModel",
      "state": {
       "layout": "IPY_MODEL_6985b52e28d64d6ca1be33b7ad5710ae",
       "placeholder": "Type something",
       "style": "IPY_MODEL_17d76b9548f14407945988507738164e",
       "value": "Task"
      }
     },
     "43112725831d4743a58b6b165bb1c9d2": {
      "model_module": "@jupyter-widgets/controls",
      "model_module_version": "1.1.0",
      "model_name": "DescriptionStyleModel",
      "state": {
       "description_width": ""
      }
     },
     "43f43c4ca20344fcb2774ca075535fe7": {
      "model_module": "@jupyter-widgets/base",
      "model_module_version": "1.0.0",
      "model_name": "LayoutModel",
      "state": {}
     },
     "456b66fe90844d60b0ab61eaf6ab662a": {
      "model_module": "@jupyter-widgets/controls",
      "model_module_version": "1.1.0",
      "model_name": "ButtonStyleModel",
      "state": {}
     },
     "4597bea6b0d3496a903d771ffb254bcf": {
      "model_module": "@jupyter-widgets/base",
      "model_module_version": "1.0.0",
      "model_name": "LayoutModel",
      "state": {}
     },
     "46998a6684974181b50f2320de9d5fc8": {
      "model_module": "@jupyter-widgets/controls",
      "model_module_version": "1.1.0",
      "model_name": "DescriptionStyleModel",
      "state": {
       "description_width": ""
      }
     },
     "4701b628c836415abf7132842acd50e6": {
      "model_module": "@jupyter-widgets/controls",
      "model_module_version": "1.1.0",
      "model_name": "TextModel",
      "state": {
       "layout": "IPY_MODEL_3c9200def62042e390561ac7872fe2d6",
       "placeholder": "Type something",
       "style": "IPY_MODEL_155891248f69425f88dff80b36ad101b",
       "value": "Task"
      }
     },
     "484d6977144640118e12f429d8f7a877": {
      "model_module": "@jupyter-widgets/base",
      "model_module_version": "1.0.0",
      "model_name": "LayoutModel",
      "state": {}
     },
     "48660fd5259347e2be1791bdf04e0be1": {
      "model_module": "@jupyter-widgets/controls",
      "model_module_version": "1.1.0",
      "model_name": "TextModel",
      "state": {
       "layout": "IPY_MODEL_835c38fe289a4e2a8f4772ca201515fa",
       "placeholder": "Type something",
       "style": "IPY_MODEL_7deff38a9f054bae97411a43f77995fc",
       "value": "experiment"
      }
     },
     "498c4f9ac5574a78ac95276d75895eed": {
      "model_module": "@jupyter-widgets/base",
      "model_module_version": "1.0.0",
      "model_name": "LayoutModel",
      "state": {}
     },
     "4a0c431d47434721874dac268ea65fc8": {
      "model_module": "@jupyter-widgets/controls",
      "model_module_version": "1.1.0",
      "model_name": "ButtonStyleModel",
      "state": {}
     },
     "4a713d231cdf4f80acfdc1e9c5e5f389": {
      "model_module": "@jupyter-widgets/base",
      "model_module_version": "1.0.0",
      "model_name": "LayoutModel",
      "state": {}
     },
     "4a819e381a2a4d5eaeb5d57f78ec08f7": {
      "model_module": "@jupyter-widgets/base",
      "model_module_version": "1.0.0",
      "model_name": "LayoutModel",
      "state": {}
     },
     "4b2528b0b0a04950b9546c1fe15bb775": {
      "model_module": "@jupyter-widgets/base",
      "model_module_version": "1.0.0",
      "model_name": "LayoutModel",
      "state": {}
     },
     "4bce35cc572149859443017412523ba3": {
      "model_module": "@jupyter-widgets/controls",
      "model_module_version": "1.1.0",
      "model_name": "ButtonModel",
      "state": {
       "description": "Add row",
       "layout": "IPY_MODEL_6c6844af035c471490193239e1da2fbe",
       "style": "IPY_MODEL_0166398e55ff42c4a54b31df8fa72980"
      }
     },
     "4bd9314f37ec4b2ab03d9d264e16618f": {
      "model_module": "@jupyter-widgets/controls",
      "model_module_version": "1.1.0",
      "model_name": "ButtonModel",
      "state": {
       "description": "Update names",
       "layout": "IPY_MODEL_cf76130670bd425d9c9a8a5e1582eac5",
       "style": "IPY_MODEL_0428689d29174b23aceb51efc6c492dc"
      }
     },
     "4bf89e4306ed4bf6961ed80c01ba2fce": {
      "model_module": "@jupyter-widgets/base",
      "model_module_version": "1.0.0",
      "model_name": "LayoutModel",
      "state": {}
     },
     "4c0b6214417f44c4a45e8d3c0e7f7a98": {
      "model_module": "@jupyter-widgets/controls",
      "model_module_version": "1.1.0",
      "model_name": "TextModel",
      "state": {
       "layout": "IPY_MODEL_3af5ed8c8e69493b8e246d2938a70176",
       "placeholder": "Type something",
       "style": "IPY_MODEL_070ec9b8d40741f4a487b15b6ab17d4c",
       "value": "author2"
      }
     },
     "4c4f909b10c04dc5821fd3d88ee0a40d": {
      "model_module": "@jupyter-widgets/base",
      "model_module_version": "1.0.0",
      "model_name": "LayoutModel",
      "state": {}
     },
     "4d5e4b11e2d44d33a7b18562026a0790": {
      "model_module": "@jupyter-widgets/controls",
      "model_module_version": "1.1.0",
      "model_name": "TextModel",
      "state": {
       "description": "author",
       "layout": "IPY_MODEL_5a532295dd4843649be6bf5b4ab5ffdd",
       "placeholder": "Type something",
       "style": "IPY_MODEL_77225545df694d18b5362d5613747107",
       "value": "author"
      }
     },
     "4fc009eb1b7444faa5a3385d197aff8f": {
      "model_module": "@jupyter-widgets/controls",
      "model_module_version": "1.1.0",
      "model_name": "ButtonModel",
      "state": {
       "description": "Add row",
       "layout": "IPY_MODEL_57ad8dfe555948d18a8cbe4370048341",
       "style": "IPY_MODEL_be76b0c0fb0f4347a1ab6ce9be99cc03"
      }
     },
     "5099be19eace4be4bd1424f57af3a317": {
      "model_module": "@jupyter-widgets/controls",
      "model_module_version": "1.1.0",
      "model_name": "TextModel",
      "state": {
       "layout": "IPY_MODEL_498c4f9ac5574a78ac95276d75895eed",
       "placeholder": "Type something",
       "style": "IPY_MODEL_ba4b43f0f4d048698ffdb30f16a24211",
       "value": "author"
      }
     },
     "563fdb6ee9184443bc181451200d7f96": {
      "model_module": "@jupyter-widgets/base",
      "model_module_version": "1.0.0",
      "model_name": "LayoutModel",
      "state": {}
     },
     "57ad8dfe555948d18a8cbe4370048341": {
      "model_module": "@jupyter-widgets/base",
      "model_module_version": "1.0.0",
      "model_name": "LayoutModel",
      "state": {}
     },
     "57b9a1dfb5064b9bbc6434f590490d4f": {
      "model_module": "@jupyter-widgets/controls",
      "model_module_version": "1.1.0",
      "model_name": "ButtonStyleModel",
      "state": {}
     },
     "57fd168caf6e4ad0b0368824a0fbeb00": {
      "model_module": "@jupyter-widgets/controls",
      "model_module_version": "1.1.0",
      "model_name": "TextModel",
      "state": {
       "layout": "IPY_MODEL_23973b486db546978aec6b0104f8fd61",
       "placeholder": "Type something",
       "style": "IPY_MODEL_6d8145a13ecc406a9671478c4f40caf7",
       "value": "author"
      }
     },
     "589d27ae2bd84e9b8a1d459be7130903": {
      "model_module": "@jupyter-widgets/controls",
      "model_module_version": "1.1.0",
      "model_name": "TextModel",
      "state": {
       "layout": "IPY_MODEL_7213c52677a84e468dd6934b70163e73",
       "placeholder": "Type something",
       "style": "IPY_MODEL_62c8c30489a8470c9ac878255d38b35b",
       "value": "Task_value"
      }
     },
     "59672788efff4b639170d3799b452c01": {
      "model_module": "@jupyter-widgets/controls",
      "model_module_version": "1.1.0",
      "model_name": "VBoxModel",
      "state": {
       "children": [
        "IPY_MODEL_bcb7f8325c394338b3df9e29203fe57e"
       ],
       "layout": "IPY_MODEL_df6dc028444f4cce974ebe28044e2b9e"
      }
     },
     "59a797c5b20148aea3ed4be549117837": {
      "model_module": "@jupyter-widgets/controls",
      "model_module_version": "1.1.0",
      "model_name": "DescriptionStyleModel",
      "state": {
       "description_width": ""
      }
     },
     "59c7527ddfee489bbba60a139d344f24": {
      "model_module": "@jupyter-widgets/controls",
      "model_module_version": "1.1.0",
      "model_name": "HBoxModel",
      "state": {
       "children": [
        "IPY_MODEL_7bbb468ff30149a787a0dcca0dd81490",
        "IPY_MODEL_19c8413cfbb24748af8be85dd4048955",
        "IPY_MODEL_99707748334440b58f44fa2886aa62f8",
        "IPY_MODEL_f5008dd545b540d38942ca3478ce3cb1"
       ],
       "layout": "IPY_MODEL_004941d665944c94912b7a70ccb4439d"
      }
     },
     "5a1ecbe358d0465f944d8b66c908dfed": {
      "model_module": "@jupyter-widgets/base",
      "model_module_version": "1.0.0",
      "model_name": "LayoutModel",
      "state": {}
     },
     "5a532295dd4843649be6bf5b4ab5ffdd": {
      "model_module": "@jupyter-widgets/base",
      "model_module_version": "1.0.0",
      "model_name": "LayoutModel",
      "state": {}
     },
     "5ae9378592844d31a6d8835e1644b7af": {
      "model_module": "@jupyter-widgets/controls",
      "model_module_version": "1.1.0",
      "model_name": "DescriptionStyleModel",
      "state": {
       "description_width": ""
      }
     },
     "5c9320edcd09463da59b07eaa02a69fa": {
      "model_module": "@jupyter-widgets/controls",
      "model_module_version": "1.1.0",
      "model_name": "VBoxModel",
      "state": {
       "children": [
        "IPY_MODEL_a9edf2927e904107ae94fdd7f2f6f9e8"
       ],
       "layout": "IPY_MODEL_bfe4d29b79f542d396c62f00bdd476ea"
      }
     },
     "5cfeeb0022824213a51dfdabd7e1b78f": {
      "model_module": "@jupyter-widgets/base",
      "model_module_version": "1.0.0",
      "model_name": "LayoutModel",
      "state": {}
     },
     "5d182f0b701d4293b76edbecefed64ef": {
      "model_module": "@jupyter-widgets/controls",
      "model_module_version": "1.1.0",
      "model_name": "DescriptionStyleModel",
      "state": {
       "description_width": ""
      }
     },
     "5dc7531eabaf4041a947d8ac57ea5689": {
      "model_module": "@jupyter-widgets/controls",
      "model_module_version": "1.1.0",
      "model_name": "HBoxModel",
      "state": {
       "children": [
        "IPY_MODEL_7faf1fb7808e45d3b730b6273298e787",
        "IPY_MODEL_3159838dbcd84c379a323bcb24caeab5",
        "IPY_MODEL_7920c87cba6b48a48315eab07dd56a9f",
        "IPY_MODEL_bac35c0c3c6b4e3386ecd936171ca3ac"
       ],
       "layout": "IPY_MODEL_049a7bd9226b45c6b2adff88625b1a00"
      }
     },
     "5ff9af55cc044072b0bf65fd45252473": {
      "model_module": "@jupyter-widgets/base",
      "model_module_version": "1.0.0",
      "model_name": "LayoutModel",
      "state": {}
     },
     "603344eee00c4fc48e1f26b5cac05910": {
      "model_module": "@jupyter-widgets/controls",
      "model_module_version": "1.1.0",
      "model_name": "VBoxModel",
      "state": {
       "children": [
        "IPY_MODEL_6d9ca4f3ee224bf2b69bf5ba6a788cd0"
       ],
       "layout": "IPY_MODEL_897673f3474b4fb49fce11a0bd9edcb6"
      }
     },
     "605cf4cb64974983be0a53818213a235": {
      "model_module": "@jupyter-widgets/base",
      "model_module_version": "1.0.0",
      "model_name": "LayoutModel",
      "state": {}
     },
     "60a0e470be0a4bb789b209087615497e": {
      "model_module": "@jupyter-widgets/base",
      "model_module_version": "1.0.0",
      "model_name": "LayoutModel",
      "state": {}
     },
     "60d38667c80d49e794cb2a2eac6333e3": {
      "model_module": "@jupyter-widgets/controls",
      "model_module_version": "1.1.0",
      "model_name": "VBoxModel",
      "state": {
       "children": [
        "IPY_MODEL_6926dd83ae504570812efa71b3336eb5",
        "IPY_MODEL_b7b480267e824db28c538ba7a1c16df9"
       ],
       "layout": "IPY_MODEL_484d6977144640118e12f429d8f7a877"
      }
     },
     "617bb2a401f14ba5b4c5cb376fb2ca38": {
      "model_module": "@jupyter-widgets/controls",
      "model_module_version": "1.1.0",
      "model_name": "TextModel",
      "state": {
       "layout": "IPY_MODEL_efe413e943c6442a961ad0cf6265fd6a",
       "placeholder": "Type something",
       "style": "IPY_MODEL_91f279fdde2c4ef1bee2ea43ab48b794",
       "value": "Task_value"
      }
     },
     "624379041d714422bb0221cc35d8b80c": {
      "model_module": "@jupyter-widgets/controls",
      "model_module_version": "1.1.0",
      "model_name": "TextModel",
      "state": {
       "layout": "IPY_MODEL_4c4f909b10c04dc5821fd3d88ee0a40d",
       "placeholder": "Type something",
       "style": "IPY_MODEL_6651f7e6d64e40939647604867e60b20",
       "value": "1"
      }
     },
     "62c8c30489a8470c9ac878255d38b35b": {
      "model_module": "@jupyter-widgets/controls",
      "model_module_version": "1.1.0",
      "model_name": "DescriptionStyleModel",
      "state": {
       "description_width": ""
      }
     },
     "62def577cfa8492b97c2d094df50220a": {
      "model_module": "@jupyter-widgets/controls",
      "model_module_version": "1.1.0",
      "model_name": "TextModel",
      "state": {
       "layout": "IPY_MODEL_563fdb6ee9184443bc181451200d7f96",
       "placeholder": "Type something",
       "style": "IPY_MODEL_e9a8489615484cb9ac48fade58537307",
       "value": "1"
      }
     },
     "630f809e84c147f1a6ba59417acb726a": {
      "model_module": "@jupyter-widgets/controls",
      "model_module_version": "1.1.0",
      "model_name": "VBoxModel",
      "state": {
       "children": [
        "IPY_MODEL_57fd168caf6e4ad0b0368824a0fbeb00",
        "IPY_MODEL_624379041d714422bb0221cc35d8b80c"
       ],
       "layout": "IPY_MODEL_7fab8bf0b64e450d92b3e0bacfe33784"
      }
     },
     "64963ebe99244dcc90e02126b4ca6490": {
      "model_module": "@jupyter-widgets/controls",
      "model_module_version": "1.1.0",
      "model_name": "TextModel",
      "state": {
       "layout": "IPY_MODEL_6fa9c8c849bb4a22a771b49f4d7937d1",
       "placeholder": "Type something",
       "style": "IPY_MODEL_34e547471c124a1c9e4216d888ba65cb",
       "value": "author"
      }
     },
     "6651f7e6d64e40939647604867e60b20": {
      "model_module": "@jupyter-widgets/controls",
      "model_module_version": "1.1.0",
      "model_name": "DescriptionStyleModel",
      "state": {
       "description_width": ""
      }
     },
     "66db0e2dc03e4ee987b499b131551eea": {
      "model_module": "@jupyter-widgets/controls",
      "model_module_version": "1.1.0",
      "model_name": "VBoxModel",
      "state": {
       "children": [
        "IPY_MODEL_f8cda4f680aa4f0e915aa36302671855"
       ],
       "layout": "IPY_MODEL_3aeb27923ff346b5a05fd99242417174"
      }
     },
     "6926dd83ae504570812efa71b3336eb5": {
      "model_module": "@jupyter-widgets/controls",
      "model_module_version": "1.1.0",
      "model_name": "TextModel",
      "state": {
       "layout": "IPY_MODEL_b47034357f244e0e9b22850c1105e1ea",
       "placeholder": "Type something",
       "style": "IPY_MODEL_46998a6684974181b50f2320de9d5fc8",
       "value": "Task"
      }
     },
     "69579489882c479b9aabc18a0bca27cc": {
      "model_module": "@jupyter-widgets/controls",
      "model_module_version": "1.1.0",
      "model_name": "VBoxModel",
      "state": {
       "children": [
        "IPY_MODEL_1593e03f21204f14bc8fc5e4740fd866",
        "IPY_MODEL_3f449734019b419baad19a54b098c628"
       ],
       "layout": "IPY_MODEL_f5082d8224684a5b971ac93501d14bcf"
      }
     },
     "6985b52e28d64d6ca1be33b7ad5710ae": {
      "model_module": "@jupyter-widgets/base",
      "model_module_version": "1.0.0",
      "model_name": "LayoutModel",
      "state": {}
     },
     "69be7147acd6491fb30a50a137ae2dc3": {
      "model_module": "@jupyter-widgets/controls",
      "model_module_version": "1.1.0",
      "model_name": "DescriptionStyleModel",
      "state": {
       "description_width": ""
      }
     },
     "6a2c8ba2af4b4b6f851a66f4ba7b70fa": {
      "model_module": "@jupyter-widgets/base",
      "model_module_version": "1.0.0",
      "model_name": "LayoutModel",
      "state": {}
     },
     "6a82b640dcc14f7fa6917fdd068912e2": {
      "model_module": "@jupyter-widgets/base",
      "model_module_version": "1.0.0",
      "model_name": "LayoutModel",
      "state": {}
     },
     "6ac4a8c66784440a95b5a2d749413e52": {
      "model_module": "@jupyter-widgets/controls",
      "model_module_version": "1.1.0",
      "model_name": "HBoxModel",
      "state": {
       "children": [
        "IPY_MODEL_5c9320edcd09463da59b07eaa02a69fa",
        "IPY_MODEL_21dd6dde60f84e088a41b4a2a606b543",
        "IPY_MODEL_66db0e2dc03e4ee987b499b131551eea"
       ],
       "layout": "IPY_MODEL_c75db0265f584b41ad115764b7154b86"
      }
     },
     "6adbe979e1814d4ebec71e249b97a4f5": {
      "model_module": "@jupyter-widgets/controls",
      "model_module_version": "1.1.0",
      "model_name": "TextModel",
      "state": {
       "layout": "IPY_MODEL_9785825224b64c95bb9b19e60b38229b",
       "placeholder": "Type something",
       "style": "IPY_MODEL_c7d6f4035ee34062a39b51697511deee",
       "value": "experiment"
      }
     },
     "6ba70e4df7eb4de184e51d6f27ae8128": {
      "model_module": "@jupyter-widgets/controls",
      "model_module_version": "1.1.0",
      "model_name": "DescriptionStyleModel",
      "state": {
       "description_width": ""
      }
     },
     "6c6844af035c471490193239e1da2fbe": {
      "model_module": "@jupyter-widgets/base",
      "model_module_version": "1.0.0",
      "model_name": "LayoutModel",
      "state": {}
     },
     "6d8145a13ecc406a9671478c4f40caf7": {
      "model_module": "@jupyter-widgets/controls",
      "model_module_version": "1.1.0",
      "model_name": "DescriptionStyleModel",
      "state": {
       "description_width": ""
      }
     },
     "6d9ca4f3ee224bf2b69bf5ba6a788cd0": {
      "model_module": "@jupyter-widgets/controls",
      "model_module_version": "1.1.0",
      "model_name": "TextModel",
      "state": {
       "layout": "IPY_MODEL_0b05f7755c26466f92297dcd83897daa",
       "placeholder": "Type something",
       "style": "IPY_MODEL_6fa33664fa4a470a815891797c7e4a8d",
       "value": "Task"
      }
     },
     "6e7b852a76fa4b0eaee2d419d5876c27": {
      "model_module": "@jupyter-widgets/controls",
      "model_module_version": "1.1.0",
      "model_name": "TextModel",
      "state": {
       "layout": "IPY_MODEL_a2300674d9a941babccfe56cc26f579a",
       "placeholder": "Type something",
       "style": "IPY_MODEL_79d816fddd424f54b03df79974eccf6d",
       "value": "Task_value"
      }
     },
     "6fa33664fa4a470a815891797c7e4a8d": {
      "model_module": "@jupyter-widgets/controls",
      "model_module_version": "1.1.0",
      "model_name": "DescriptionStyleModel",
      "state": {
       "description_width": ""
      }
     },
     "6fa9c8c849bb4a22a771b49f4d7937d1": {
      "model_module": "@jupyter-widgets/base",
      "model_module_version": "1.0.0",
      "model_name": "LayoutModel",
      "state": {}
     },
     "700f9ce7c8b049ec9d283693130991bf": {
      "model_module": "@jupyter-widgets/base",
      "model_module_version": "1.0.0",
      "model_name": "LayoutModel",
      "state": {}
     },
     "701077f4eaa540ef9b0e37cb66becab4": {
      "model_module": "@jupyter-widgets/controls",
      "model_module_version": "1.1.0",
      "model_name": "DescriptionStyleModel",
      "state": {
       "description_width": ""
      }
     },
     "715b289b69494d209b4fc6e526714d8f": {
      "model_module": "@jupyter-widgets/base",
      "model_module_version": "1.0.0",
      "model_name": "LayoutModel",
      "state": {}
     },
     "71bb7603cd8b4f0b87c1591f14133ccb": {
      "model_module": "@jupyter-widgets/controls",
      "model_module_version": "1.1.0",
      "model_name": "ButtonModel",
      "state": {
       "description": "Update names",
       "layout": "IPY_MODEL_3df69b75e9aa4070b1ec133b4c71ba42",
       "style": "IPY_MODEL_456b66fe90844d60b0ab61eaf6ab662a"
      }
     },
     "7213c52677a84e468dd6934b70163e73": {
      "model_module": "@jupyter-widgets/base",
      "model_module_version": "1.0.0",
      "model_name": "LayoutModel",
      "state": {}
     },
     "721b437002544fa0a8b619e581165f5e": {
      "model_module": "@jupyter-widgets/controls",
      "model_module_version": "1.1.0",
      "model_name": "TextModel",
      "state": {
       "description": "author",
       "layout": "IPY_MODEL_b9296e57af004f8dbcd4d69024428678",
       "placeholder": "Type something",
       "style": "IPY_MODEL_0fc823af799d40f499ca4d48de514a93",
       "value": "author2"
      }
     },
     "729a040b01934c7e828f686339544afa": {
      "model_module": "@jupyter-widgets/controls",
      "model_module_version": "1.1.0",
      "model_name": "TextModel",
      "state": {
       "layout": "IPY_MODEL_ecf6b27467c04ed6ae3fcfb8481ebd81",
       "placeholder": "Type something",
       "style": "IPY_MODEL_206f86c9f14d4d1c939357c8c32aa282",
       "value": "author1"
      }
     },
     "72b68d37b6414103afac0fb16cf50d90": {
      "model_module": "@jupyter-widgets/controls",
      "model_module_version": "1.1.0",
      "model_name": "VBoxModel",
      "state": {
       "children": [
        "IPY_MODEL_d38e2f7e3f4144be8584ff4d3e48ceaf",
        "IPY_MODEL_25555e88a47b4a1695b8e68c31004b96"
       ],
       "layout": "IPY_MODEL_97e45bac545b466eba81d9e3b6b44929"
      }
     },
     "7302d11bb8234f0ca8e3521f6c4b4645": {
      "model_module": "@jupyter-widgets/controls",
      "model_module_version": "1.1.0",
      "model_name": "VBoxModel",
      "state": {
       "children": [
        "IPY_MODEL_2312fb5ce80d44d9a32ab7bb98911154"
       ],
       "layout": "IPY_MODEL_f7406d27dd9d462ca08cbedeb25e6e40"
      }
     },
     "731302e1fb7f43f2bdc0698a39f612c4": {
      "model_module": "@jupyter-widgets/base",
      "model_module_version": "1.0.0",
      "model_name": "LayoutModel",
      "state": {}
     },
     "732ebf41f9ea4e07be55f51f9561bd3c": {
      "model_module": "@jupyter-widgets/base",
      "model_module_version": "1.0.0",
      "model_name": "LayoutModel",
      "state": {}
     },
     "7612259ba6e54557b7393e4e2c0771c9": {
      "model_module": "@jupyter-widgets/base",
      "model_module_version": "1.0.0",
      "model_name": "LayoutModel",
      "state": {}
     },
     "77225545df694d18b5362d5613747107": {
      "model_module": "@jupyter-widgets/controls",
      "model_module_version": "1.1.0",
      "model_name": "DescriptionStyleModel",
      "state": {
       "description_width": ""
      }
     },
     "7920c87cba6b48a48315eab07dd56a9f": {
      "model_module": "@jupyter-widgets/controls",
      "model_module_version": "1.1.0",
      "model_name": "VBoxModel",
      "state": {
       "children": [
        "IPY_MODEL_729a040b01934c7e828f686339544afa"
       ],
       "layout": "IPY_MODEL_eec61b5187cf4b1d918257686baad6cb"
      }
     },
     "7926f206fde240de850ef824d54ab4e9": {
      "model_module": "@jupyter-widgets/controls",
      "model_module_version": "1.1.0",
      "model_name": "TextModel",
      "state": {
       "layout": "IPY_MODEL_2bf75fc7744d4699b9c5b174a1f9d9fa",
       "placeholder": "Type something",
       "style": "IPY_MODEL_701077f4eaa540ef9b0e37cb66becab4",
       "value": "Task"
      }
     },
     "792febe5c78d4444a115d3c20ad7353f": {
      "model_module": "@jupyter-widgets/base",
      "model_module_version": "1.0.0",
      "model_name": "LayoutModel",
      "state": {}
     },
     "79868df3f46f42028d596589c820b554": {
      "model_module": "@jupyter-widgets/controls",
      "model_module_version": "1.1.0",
      "model_name": "TextModel",
      "state": {
       "description": "author",
       "layout": "IPY_MODEL_fe8b78d1ba974214a27441db9e187094",
       "placeholder": "Type something",
       "style": "IPY_MODEL_88b5ae1021ac40b090435841a32c95e9",
       "value": "Author name"
      }
     },
     "79d816fddd424f54b03df79974eccf6d": {
      "model_module": "@jupyter-widgets/controls",
      "model_module_version": "1.1.0",
      "model_name": "DescriptionStyleModel",
      "state": {
       "description_width": ""
      }
     },
     "7a6bfd0581bb4027a4981cb9fad54d63": {
      "model_module": "@jupyter-widgets/base",
      "model_module_version": "1.0.0",
      "model_name": "LayoutModel",
      "state": {}
     },
     "7a740e3ab782471497242dcf1cf0d0d7": {
      "model_module": "@jupyter-widgets/base",
      "model_module_version": "1.0.0",
      "model_name": "LayoutModel",
      "state": {}
     },
     "7b08b19cb69e471ab8f07c046d399a80": {
      "model_module": "@jupyter-widgets/base",
      "model_module_version": "1.0.0",
      "model_name": "LayoutModel",
      "state": {}
     },
     "7bbb468ff30149a787a0dcca0dd81490": {
      "model_module": "@jupyter-widgets/controls",
      "model_module_version": "1.1.0",
      "model_name": "VBoxModel",
      "state": {
       "children": [
        "IPY_MODEL_7926f206fde240de850ef824d54ab4e9",
        "IPY_MODEL_6adbe979e1814d4ebec71e249b97a4f5"
       ],
       "layout": "IPY_MODEL_d0c45f385f974f939a58466b3a817e66"
      }
     },
     "7c04d7c0d24c4001974e679c24e86ded": {
      "model_module": "@jupyter-widgets/controls",
      "model_module_version": "1.1.0",
      "model_name": "VBoxModel",
      "state": {
       "children": [
        "IPY_MODEL_1a25b4422eed4884865fbfb959125d6e"
       ],
       "layout": "IPY_MODEL_05ba747513ff46b5bc77054aefa1307e"
      }
     },
     "7d4c7544aad34fc383da2d5e007c19e7": {
      "model_module": "@jupyter-widgets/base",
      "model_module_version": "1.0.0",
      "model_name": "LayoutModel",
      "state": {}
     },
     "7d92390ab1214ab689f531d0522ee596": {
      "model_module": "@jupyter-widgets/controls",
      "model_module_version": "1.1.0",
      "model_name": "TextModel",
      "state": {
       "layout": "IPY_MODEL_700f9ce7c8b049ec9d283693130991bf",
       "placeholder": "Type something",
       "style": "IPY_MODEL_43112725831d4743a58b6b165bb1c9d2",
       "value": "Task"
      }
     },
     "7deff38a9f054bae97411a43f77995fc": {
      "model_module": "@jupyter-widgets/controls",
      "model_module_version": "1.1.0",
      "model_name": "DescriptionStyleModel",
      "state": {
       "description_width": ""
      }
     },
     "7e54a0b55d2643fd80cd304d2b8a16cf": {
      "model_module": "@jupyter-widgets/base",
      "model_module_version": "1.0.0",
      "model_name": "LayoutModel",
      "state": {}
     },
     "7eacd3fd3749410d9b90c8e1ad04feb7": {
      "model_module": "@jupyter-widgets/base",
      "model_module_version": "1.0.0",
      "model_name": "LayoutModel",
      "state": {}
     },
     "7eeca638fc3241d88f5886c5935ae32f": {
      "model_module": "@jupyter-widgets/base",
      "model_module_version": "1.0.0",
      "model_name": "LayoutModel",
      "state": {}
     },
     "7fab8bf0b64e450d92b3e0bacfe33784": {
      "model_module": "@jupyter-widgets/base",
      "model_module_version": "1.0.0",
      "model_name": "LayoutModel",
      "state": {}
     },
     "7faf1fb7808e45d3b730b6273298e787": {
      "model_module": "@jupyter-widgets/controls",
      "model_module_version": "1.1.0",
      "model_name": "VBoxModel",
      "state": {
       "children": [
        "IPY_MODEL_7d92390ab1214ab689f531d0522ee596"
       ],
       "layout": "IPY_MODEL_b890f933b4504048a12fd97054fc2548"
      }
     },
     "7fd63572285c4c3ca9163deeea80354a": {
      "model_module": "@jupyter-widgets/controls",
      "model_module_version": "1.1.0",
      "model_name": "VBoxModel",
      "state": {
       "children": [
        "IPY_MODEL_deec8388e4344135b3265b36ed3de4c4"
       ],
       "layout": "IPY_MODEL_0f4ce97aecce4ebcbd4826a30ec22749"
      }
     },
     "806aa254929b4bec9a4229a68ce59b96": {
      "model_module": "@jupyter-widgets/base",
      "model_module_version": "1.0.0",
      "model_name": "LayoutModel",
      "state": {}
     },
     "8230e6171b7a400ea93b9d56deb338a6": {
      "model_module": "@jupyter-widgets/base",
      "model_module_version": "1.0.0",
      "model_name": "LayoutModel",
      "state": {}
     },
     "8253554ebac54fe3bab33a31e8f05b9c": {
      "model_module": "@jupyter-widgets/controls",
      "model_module_version": "1.1.0",
      "model_name": "VBoxModel",
      "state": {
       "children": [
        "IPY_MODEL_5099be19eace4be4bd1424f57af3a317"
       ],
       "layout": "IPY_MODEL_7d4c7544aad34fc383da2d5e007c19e7"
      }
     },
     "8281782ed51849bfad71cefb8fa1fccf": {
      "model_module": "@jupyter-widgets/controls",
      "model_module_version": "1.1.0",
      "model_name": "TextModel",
      "state": {
       "layout": "IPY_MODEL_731302e1fb7f43f2bdc0698a39f612c4",
       "placeholder": "Type something",
       "style": "IPY_MODEL_5ae9378592844d31a6d8835e1644b7af",
       "value": "Task"
      }
     },
     "835c38fe289a4e2a8f4772ca201515fa": {
      "model_module": "@jupyter-widgets/base",
      "model_module_version": "1.0.0",
      "model_name": "LayoutModel",
      "state": {}
     },
     "8550f61b076b459ca74d61ab7e20cddd": {
      "model_module": "@jupyter-widgets/base",
      "model_module_version": "1.0.0",
      "model_name": "LayoutModel",
      "state": {}
     },
     "85990da13d11431e92858012d18ed4da": {
      "model_module": "@jupyter-widgets/base",
      "model_module_version": "1.0.0",
      "model_name": "LayoutModel",
      "state": {}
     },
     "8724bceb485c4ce5a846d92ef917aba7": {
      "model_module": "@jupyter-widgets/controls",
      "model_module_version": "1.1.0",
      "model_name": "VBoxModel",
      "state": {
       "children": [
        "IPY_MODEL_4701b628c836415abf7132842acd50e6",
        "IPY_MODEL_24fb15a0d01a495abee26c91fd813379"
       ],
       "layout": "IPY_MODEL_27154b1f112141ad9142bbfd1dbb821f"
      }
     },
     "87b434dd91534eed88d8adccacee6288": {
      "model_module": "@jupyter-widgets/controls",
      "model_module_version": "1.1.0",
      "model_name": "ButtonStyleModel",
      "state": {}
     },
     "88221b75376e438abd1864139924a43f": {
      "model_module": "@jupyter-widgets/base",
      "model_module_version": "1.0.0",
      "model_name": "LayoutModel",
      "state": {}
     },
     "887d02490bc14718ac1aae6e9d34779f": {
      "model_module": "@jupyter-widgets/controls",
      "model_module_version": "1.1.0",
      "model_name": "ButtonModel",
      "state": {
       "description": "Update names",
       "layout": "IPY_MODEL_1d02b02b944a4053b9b5b1ef7986d0b2",
       "style": "IPY_MODEL_57b9a1dfb5064b9bbc6434f590490d4f"
      }
     },
     "88ac9f1fe55943ee87370c2c76da1c58": {
      "model_module": "@jupyter-widgets/base",
      "model_module_version": "1.0.0",
      "model_name": "LayoutModel",
      "state": {}
     },
     "88b5ae1021ac40b090435841a32c95e9": {
      "model_module": "@jupyter-widgets/controls",
      "model_module_version": "1.1.0",
      "model_name": "DescriptionStyleModel",
      "state": {
       "description_width": ""
      }
     },
     "897673f3474b4fb49fce11a0bd9edcb6": {
      "model_module": "@jupyter-widgets/base",
      "model_module_version": "1.0.0",
      "model_name": "LayoutModel",
      "state": {}
     },
     "8a393d6178a04b1085c3eff86859756c": {
      "model_module": "@jupyter-widgets/controls",
      "model_module_version": "1.1.0",
      "model_name": "VBoxModel",
      "state": {
       "children": [
        "IPY_MODEL_05a440731125474d8a9eaefe27442620"
       ],
       "layout": "IPY_MODEL_7b08b19cb69e471ab8f07c046d399a80"
      }
     },
     "8c63f7829bf24bc7b982be87746a77b9": {
      "model_module": "@jupyter-widgets/controls",
      "model_module_version": "1.1.0",
      "model_name": "ButtonModel",
      "state": {
       "description": "Add row",
       "layout": "IPY_MODEL_0ca55d145e1945cf88bdb98b3aa26738",
       "style": "IPY_MODEL_bf93b8706faa4ea48e4d74b97199360b"
      }
     },
     "8d401f52f3c64870acb530c5158ffcef": {
      "model_module": "@jupyter-widgets/controls",
      "model_module_version": "1.1.0",
      "model_name": "DescriptionStyleModel",
      "state": {
       "description_width": ""
      }
     },
     "917a7b58183049e180182b2720513684": {
      "model_module": "@jupyter-widgets/controls",
      "model_module_version": "1.1.0",
      "model_name": "TextModel",
      "state": {
       "layout": "IPY_MODEL_715b289b69494d209b4fc6e526714d8f",
       "placeholder": "Type something",
       "style": "IPY_MODEL_b135fb8ef5864b0ca732aa000e8c8a9f",
       "value": "Task_value"
      }
     },
     "91f279fdde2c4ef1bee2ea43ab48b794": {
      "model_module": "@jupyter-widgets/controls",
      "model_module_version": "1.1.0",
      "model_name": "DescriptionStyleModel",
      "state": {
       "description_width": ""
      }
     },
     "9686c9a885af402e867053f377ff1f2c": {
      "model_module": "@jupyter-widgets/base",
      "model_module_version": "1.0.0",
      "model_name": "LayoutModel",
      "state": {}
     },
     "9785825224b64c95bb9b19e60b38229b": {
      "model_module": "@jupyter-widgets/base",
      "model_module_version": "1.0.0",
      "model_name": "LayoutModel",
      "state": {}
     },
     "97e45bac545b466eba81d9e3b6b44929": {
      "model_module": "@jupyter-widgets/base",
      "model_module_version": "1.0.0",
      "model_name": "LayoutModel",
      "state": {}
     },
     "990ce107b9ac4b54acf662bf6db11cfb": {
      "model_module": "@jupyter-widgets/controls",
      "model_module_version": "1.1.0",
      "model_name": "DescriptionStyleModel",
      "state": {
       "description_width": ""
      }
     },
     "99707748334440b58f44fa2886aa62f8": {
      "model_module": "@jupyter-widgets/controls",
      "model_module_version": "1.1.0",
      "model_name": "VBoxModel",
      "state": {
       "children": [
        "IPY_MODEL_fe624b4c316a426f8d0868e01588a6a7",
        "IPY_MODEL_3afec0f85cef4e96965f727a5e280563"
       ],
       "layout": "IPY_MODEL_f668a99486464b0ab09d08bb1556ee27"
      }
     },
     "9af2bc815aaa4b95b8af6a52fd9b19df": {
      "model_module": "@jupyter-widgets/controls",
      "model_module_version": "1.1.0",
      "model_name": "ButtonModel",
      "state": {
       "description": "Update names",
       "layout": "IPY_MODEL_88ac9f1fe55943ee87370c2c76da1c58",
       "style": "IPY_MODEL_4a0c431d47434721874dac268ea65fc8"
      }
     },
     "9b42e04f3ce04b91b522abcc27295636": {
      "model_module": "@jupyter-widgets/controls",
      "model_module_version": "1.1.0",
      "model_name": "DescriptionStyleModel",
      "state": {
       "description_width": ""
      }
     },
     "9e62e5d0de894161922a0a8ed82e616e": {
      "model_module": "@jupyter-widgets/controls",
      "model_module_version": "1.1.0",
      "model_name": "DescriptionStyleModel",
      "state": {
       "description_width": ""
      }
     },
     "a0ccb2ff0dce4013bc55f0e57169fb6a": {
      "model_module": "@jupyter-widgets/base",
      "model_module_version": "1.0.0",
      "model_name": "LayoutModel",
      "state": {}
     },
     "a0dffcd89ff6487ebdd130bcbb9018b3": {
      "model_module": "@jupyter-widgets/base",
      "model_module_version": "1.0.0",
      "model_name": "LayoutModel",
      "state": {}
     },
     "a1e91b0eab05416f8342959ba2d069f3": {
      "model_module": "@jupyter-widgets/controls",
      "model_module_version": "1.1.0",
      "model_name": "DescriptionStyleModel",
      "state": {
       "description_width": ""
      }
     },
     "a2300674d9a941babccfe56cc26f579a": {
      "model_module": "@jupyter-widgets/base",
      "model_module_version": "1.0.0",
      "model_name": "LayoutModel",
      "state": {}
     },
     "a436b2de592b44a2b60e8d5b47b3913d": {
      "model_module": "@jupyter-widgets/controls",
      "model_module_version": "1.1.0",
      "model_name": "TextModel",
      "state": {
       "layout": "IPY_MODEL_20c5108d30ac4e5e81f7100c5f035f61",
       "placeholder": "Type something",
       "style": "IPY_MODEL_3eb3b9d6631945589c8bdc15a6d3b1e0",
       "value": "1"
      }
     },
     "a4c5250d2eba4c4f9492189bae7a6027": {
      "model_module": "@jupyter-widgets/controls",
      "model_module_version": "1.1.0",
      "model_name": "VBoxModel",
      "state": {
       "children": [
        "IPY_MODEL_8281782ed51849bfad71cefb8fa1fccf"
       ],
       "layout": "IPY_MODEL_fbbed6428dd64911bc12b9a858748be2"
      }
     },
     "a61cbda813284c9399c6bb08478be0b5": {
      "model_module": "@jupyter-widgets/controls",
      "model_module_version": "1.1.0",
      "model_name": "DescriptionStyleModel",
      "state": {
       "description_width": ""
      }
     },
     "a7d17e7442364c95b38fc6d12566d0a7": {
      "model_module": "@jupyter-widgets/controls",
      "model_module_version": "1.1.0",
      "model_name": "DescriptionStyleModel",
      "state": {
       "description_width": ""
      }
     },
     "a99d1a5522f74a63a40f8092101f1b93": {
      "model_module": "@jupyter-widgets/controls",
      "model_module_version": "1.1.0",
      "model_name": "DescriptionStyleModel",
      "state": {
       "description_width": ""
      }
     },
     "a9c9c03a4731434cb0a4164b412239ea": {
      "model_module": "@jupyter-widgets/base",
      "model_module_version": "1.0.0",
      "model_name": "LayoutModel",
      "state": {}
     },
     "a9edf2927e904107ae94fdd7f2f6f9e8": {
      "model_module": "@jupyter-widgets/controls",
      "model_module_version": "1.1.0",
      "model_name": "TextModel",
      "state": {
       "layout": "IPY_MODEL_ed923b13e2a445dd9bf267a4a737eda1",
       "placeholder": "Type something",
       "style": "IPY_MODEL_a7d17e7442364c95b38fc6d12566d0a7",
       "value": "Task"
      }
     },
     "ab887b5483744d7b995271a25ec2392b": {
      "model_module": "@jupyter-widgets/base",
      "model_module_version": "1.0.0",
      "model_name": "LayoutModel",
      "state": {}
     },
     "acb8c5cbae0e4d6c836a61456797980f": {
      "model_module": "@jupyter-widgets/base",
      "model_module_version": "1.0.0",
      "model_name": "LayoutModel",
      "state": {}
     },
     "ae31d49b16bb494397aa91ddc2c9cf68": {
      "model_module": "@jupyter-widgets/controls",
      "model_module_version": "1.1.0",
      "model_name": "DescriptionStyleModel",
      "state": {
       "description_width": ""
      }
     },
     "ae83adf229c345f9b272899410ad8834": {
      "model_module": "@jupyter-widgets/base",
      "model_module_version": "1.0.0",
      "model_name": "LayoutModel",
      "state": {}
     },
     "aef17da4be49427f859f3e945f47078d": {
      "model_module": "@jupyter-widgets/base",
      "model_module_version": "1.0.0",
      "model_name": "LayoutModel",
      "state": {}
     },
     "b0b8cc3ff4b7421492289c7f61b8385a": {
      "model_module": "@jupyter-widgets/controls",
      "model_module_version": "1.1.0",
      "model_name": "DescriptionStyleModel",
      "state": {
       "description_width": ""
      }
     },
     "b135fb8ef5864b0ca732aa000e8c8a9f": {
      "model_module": "@jupyter-widgets/controls",
      "model_module_version": "1.1.0",
      "model_name": "DescriptionStyleModel",
      "state": {
       "description_width": ""
      }
     },
     "b47034357f244e0e9b22850c1105e1ea": {
      "model_module": "@jupyter-widgets/base",
      "model_module_version": "1.0.0",
      "model_name": "LayoutModel",
      "state": {}
     },
     "b523dc7ea1ac4e1ca8fe516c6cc670ac": {
      "model_module": "@jupyter-widgets/base",
      "model_module_version": "1.0.0",
      "model_name": "LayoutModel",
      "state": {}
     },
     "b7b480267e824db28c538ba7a1c16df9": {
      "model_module": "@jupyter-widgets/controls",
      "model_module_version": "1.1.0",
      "model_name": "TextModel",
      "state": {
       "layout": "IPY_MODEL_1a7317d521d94524a906436cbd7c88a8",
       "placeholder": "Type something",
       "style": "IPY_MODEL_22425801fa774a46b23bb8489145def4",
       "value": "experiment"
      }
     },
     "b890f933b4504048a12fd97054fc2548": {
      "model_module": "@jupyter-widgets/base",
      "model_module_version": "1.0.0",
      "model_name": "LayoutModel",
      "state": {}
     },
     "b8b20c9627774cbeb72a9271cb9ddfeb": {
      "model_module": "@jupyter-widgets/controls",
      "model_module_version": "1.1.0",
      "model_name": "DescriptionStyleModel",
      "state": {
       "description_width": ""
      }
     },
     "b9296e57af004f8dbcd4d69024428678": {
      "model_module": "@jupyter-widgets/base",
      "model_module_version": "1.0.0",
      "model_name": "LayoutModel",
      "state": {}
     },
     "ba4b43f0f4d048698ffdb30f16a24211": {
      "model_module": "@jupyter-widgets/controls",
      "model_module_version": "1.1.0",
      "model_name": "DescriptionStyleModel",
      "state": {
       "description_width": ""
      }
     },
     "bab2a38887dd470e84198a0ccc2f67ea": {
      "model_module": "@jupyter-widgets/controls",
      "model_module_version": "1.1.0",
      "model_name": "DescriptionStyleModel",
      "state": {
       "description_width": ""
      }
     },
     "bac35c0c3c6b4e3386ecd936171ca3ac": {
      "model_module": "@jupyter-widgets/controls",
      "model_module_version": "1.1.0",
      "model_name": "VBoxModel",
      "state": {
       "children": [
        "IPY_MODEL_4c0b6214417f44c4a45e8d3c0e7f7a98"
       ],
       "layout": "IPY_MODEL_605cf4cb64974983be0a53818213a235"
      }
     },
     "bb06a1ed342a44a4a94727b7a068f305": {
      "model_module": "@jupyter-widgets/base",
      "model_module_version": "1.0.0",
      "model_name": "LayoutModel",
      "state": {}
     },
     "bbab8c5aad074352a5228dd3b2364f0a": {
      "model_module": "@jupyter-widgets/controls",
      "model_module_version": "1.1.0",
      "model_name": "DescriptionStyleModel",
      "state": {
       "description_width": ""
      }
     },
     "bc2e9b66033a457290f4ef2ec3eae319": {
      "model_module": "@jupyter-widgets/controls",
      "model_module_version": "1.1.0",
      "model_name": "DescriptionStyleModel",
      "state": {
       "description_width": ""
      }
     },
     "bcb7f8325c394338b3df9e29203fe57e": {
      "model_module": "@jupyter-widgets/controls",
      "model_module_version": "1.1.0",
      "model_name": "TextModel",
      "state": {
       "layout": "IPY_MODEL_ae83adf229c345f9b272899410ad8834",
       "placeholder": "Type something",
       "style": "IPY_MODEL_bbab8c5aad074352a5228dd3b2364f0a",
       "value": "author"
      }
     },
     "bd175e8bcd9c4d4cb8a560345ec144cd": {
      "model_module": "@jupyter-widgets/base",
      "model_module_version": "1.0.0",
      "model_name": "LayoutModel",
      "state": {}
     },
     "be76b0c0fb0f4347a1ab6ce9be99cc03": {
      "model_module": "@jupyter-widgets/controls",
      "model_module_version": "1.1.0",
      "model_name": "ButtonStyleModel",
      "state": {}
     },
     "bf93b8706faa4ea48e4d74b97199360b": {
      "model_module": "@jupyter-widgets/controls",
      "model_module_version": "1.1.0",
      "model_name": "ButtonStyleModel",
      "state": {}
     },
     "bfe4d29b79f542d396c62f00bdd476ea": {
      "model_module": "@jupyter-widgets/base",
      "model_module_version": "1.0.0",
      "model_name": "LayoutModel",
      "state": {}
     },
     "c14841923cd94f58b43c461d1023b364": {
      "model_module": "@jupyter-widgets/controls",
      "model_module_version": "1.1.0",
      "model_name": "TextModel",
      "state": {
       "layout": "IPY_MODEL_0de843d5ded3498ca61fe0a1184966c7",
       "placeholder": "Type something",
       "style": "IPY_MODEL_8d401f52f3c64870acb530c5158ffcef",
       "value": "100"
      }
     },
     "c22c0ab7d6c745688f1d9f227068ec38": {
      "model_module": "@jupyter-widgets/controls",
      "model_module_version": "1.1.0",
      "model_name": "TextModel",
      "state": {
       "layout": "IPY_MODEL_26cf7ed3b700423792d750af2ea35575",
       "placeholder": "Type something",
       "style": "IPY_MODEL_990ce107b9ac4b54acf662bf6db11cfb",
       "value": "Task"
      }
     },
     "c38f0c42938141d7aaf5b656b057392a": {
      "model_module": "@jupyter-widgets/controls",
      "model_module_version": "1.1.0",
      "model_name": "TextModel",
      "state": {
       "layout": "IPY_MODEL_a0dffcd89ff6487ebdd130bcbb9018b3",
       "placeholder": "Type something",
       "style": "IPY_MODEL_ec300e692c6a4bcbbd1866f20476f529",
       "value": "1"
      }
     },
     "c47e7d3258f143da9a462f76744a30f2": {
      "model_module": "@jupyter-widgets/base",
      "model_module_version": "1.0.0",
      "model_name": "LayoutModel",
      "state": {}
     },
     "c57e6e0a25d94c33b2f562fec73ca6e8": {
      "model_module": "@jupyter-widgets/controls",
      "model_module_version": "1.1.0",
      "model_name": "VBoxModel",
      "state": {
       "children": [
        "IPY_MODEL_64963ebe99244dcc90e02126b4ca6490",
        "IPY_MODEL_c38f0c42938141d7aaf5b656b057392a"
       ],
       "layout": "IPY_MODEL_5cfeeb0022824213a51dfdabd7e1b78f"
      }
     },
     "c5d0c04b60ad4728abe0118615ad242e": {
      "model_module": "@jupyter-widgets/controls",
      "model_module_version": "1.1.0",
      "model_name": "TextModel",
      "state": {
       "layout": "IPY_MODEL_e43c6d0a68624c76998d492919d332c4",
       "placeholder": "Type something",
       "style": "IPY_MODEL_ff8a292df8af42849a6653f225da66b0",
       "value": "Task_value"
      }
     },
     "c5fa06dca6a343a1902407a65ac3dfe1": {
      "model_module": "@jupyter-widgets/base",
      "model_module_version": "1.0.0",
      "model_name": "LayoutModel",
      "state": {}
     },
     "c6506b59bcd343ba8f834a58c1e43309": {
      "model_module": "@jupyter-widgets/controls",
      "model_module_version": "1.1.0",
      "model_name": "HBoxModel",
      "state": {
       "children": [
        "IPY_MODEL_7fd63572285c4c3ca9163deeea80354a",
        "IPY_MODEL_064c9d671b014968959657ecc14707cb",
        "IPY_MODEL_8253554ebac54fe3bab33a31e8f05b9c"
       ],
       "layout": "IPY_MODEL_a0ccb2ff0dce4013bc55f0e57169fb6a"
      }
     },
     "c744943bca4d4bacaa431b98510b81d5": {
      "model_module": "@jupyter-widgets/base",
      "model_module_version": "1.0.0",
      "model_name": "LayoutModel",
      "state": {}
     },
     "c75db0265f584b41ad115764b7154b86": {
      "model_module": "@jupyter-widgets/base",
      "model_module_version": "1.0.0",
      "model_name": "LayoutModel",
      "state": {}
     },
     "c7d6f4035ee34062a39b51697511deee": {
      "model_module": "@jupyter-widgets/controls",
      "model_module_version": "1.1.0",
      "model_name": "DescriptionStyleModel",
      "state": {
       "description_width": ""
      }
     },
     "c827546db32743d5b5e1e6af7df0abc7": {
      "model_module": "@jupyter-widgets/controls",
      "model_module_version": "1.1.0",
      "model_name": "VBoxModel",
      "state": {
       "children": [
        "IPY_MODEL_42b4bf6d018e4493936b606198fdea31",
        "IPY_MODEL_31e7894cf88b43c5a1007e8d893d240d"
       ],
       "layout": "IPY_MODEL_2d4cb314f1804d9cb5717ba2d8e8bb32"
      }
     },
     "cc36c7f95e4848d2829a7b0fdf9727c5": {
      "model_module": "@jupyter-widgets/base",
      "model_module_version": "1.0.0",
      "model_name": "LayoutModel",
      "state": {}
     },
     "cdb58a4c8dce4f45bcb28ca82e617bca": {
      "model_module": "@jupyter-widgets/controls",
      "model_module_version": "1.1.0",
      "model_name": "DescriptionStyleModel",
      "state": {
       "description_width": ""
      }
     },
     "ceeb994a4cfe4eefb721ab519053bb80": {
      "model_module": "@jupyter-widgets/controls",
      "model_module_version": "1.1.0",
      "model_name": "DescriptionStyleModel",
      "state": {
       "description_width": ""
      }
     },
     "ceff156eb14a4a40b0088a72b3325c5a": {
      "model_module": "@jupyter-widgets/controls",
      "model_module_version": "1.1.0",
      "model_name": "TextModel",
      "state": {
       "layout": "IPY_MODEL_7e54a0b55d2643fd80cd304d2b8a16cf",
       "placeholder": "Type something",
       "style": "IPY_MODEL_3680ad28e6f1474d9d58cd559743dbba",
       "value": "author2"
      }
     },
     "cf76130670bd425d9c9a8a5e1582eac5": {
      "model_module": "@jupyter-widgets/base",
      "model_module_version": "1.0.0",
      "model_name": "LayoutModel",
      "state": {}
     },
     "d0c45f385f974f939a58466b3a817e66": {
      "model_module": "@jupyter-widgets/base",
      "model_module_version": "1.0.0",
      "model_name": "LayoutModel",
      "state": {}
     },
     "d21878eb62e04b28aa13eb2eb4120461": {
      "model_module": "@jupyter-widgets/base",
      "model_module_version": "1.0.0",
      "model_name": "LayoutModel",
      "state": {}
     },
     "d2fbf7e2a9b0413786c5395a7022101b": {
      "model_module": "@jupyter-widgets/base",
      "model_module_version": "1.0.0",
      "model_name": "LayoutModel",
      "state": {}
     },
     "d38e2f7e3f4144be8584ff4d3e48ceaf": {
      "model_module": "@jupyter-widgets/controls",
      "model_module_version": "1.1.0",
      "model_name": "TextModel",
      "state": {
       "layout": "IPY_MODEL_acb8c5cbae0e4d6c836a61456797980f",
       "placeholder": "Type something",
       "style": "IPY_MODEL_e5afc0781a6d4848b58c9960e87fb41f",
       "value": "Task_value"
      }
     },
     "d435fd58eec3492489a3b89a590b9487": {
      "model_module": "@jupyter-widgets/controls",
      "model_module_version": "1.1.0",
      "model_name": "DescriptionStyleModel",
      "state": {
       "description_width": ""
      }
     },
     "d45b5eea7a3f49efaf1881781176e3d5": {
      "model_module": "@jupyter-widgets/base",
      "model_module_version": "1.0.0",
      "model_name": "LayoutModel",
      "state": {}
     },
     "d464eaa0f6be418bb4a33ba1a48e5bcc": {
      "model_module": "@jupyter-widgets/controls",
      "model_module_version": "1.1.0",
      "model_name": "HBoxModel",
      "state": {
       "children": [
        "IPY_MODEL_603344eee00c4fc48e1f26b5cac05910",
        "IPY_MODEL_7c04d7c0d24c4001974e679c24e86ded",
        "IPY_MODEL_59672788efff4b639170d3799b452c01"
       ],
       "layout": "IPY_MODEL_5a1ecbe358d0465f944d8b66c908dfed"
      }
     },
     "d4d6d9d553b64a54ae25606f33a0af87": {
      "model_module": "@jupyter-widgets/base",
      "model_module_version": "1.0.0",
      "model_name": "LayoutModel",
      "state": {}
     },
     "d538ef7bd331421e9b64767ef84dea23": {
      "model_module": "@jupyter-widgets/controls",
      "model_module_version": "1.1.0",
      "model_name": "DescriptionStyleModel",
      "state": {
       "description_width": ""
      }
     },
     "d5ca16e1482d4ea4911bca840d666a28": {
      "model_module": "@jupyter-widgets/controls",
      "model_module_version": "1.1.0",
      "model_name": "DescriptionStyleModel",
      "state": {
       "description_width": ""
      }
     },
     "db3fcdc91bbf461280b8d5836f8c6bde": {
      "model_module": "@jupyter-widgets/controls",
      "model_module_version": "1.1.0",
      "model_name": "TextModel",
      "state": {
       "layout": "IPY_MODEL_7a740e3ab782471497242dcf1cf0d0d7",
       "placeholder": "Type something",
       "style": "IPY_MODEL_bc2e9b66033a457290f4ef2ec3eae319",
       "value": "70"
      }
     },
     "dbf6b5b0d4c4404e8407e0c156b6c30f": {
      "model_module": "@jupyter-widgets/controls",
      "model_module_version": "1.1.0",
      "model_name": "VBoxModel",
      "state": {
       "children": [
        "IPY_MODEL_e904867084c548e4bfe7fd80600fa718",
        "IPY_MODEL_62def577cfa8492b97c2d094df50220a"
       ],
       "layout": "IPY_MODEL_d45b5eea7a3f49efaf1881781176e3d5"
      }
     },
     "decbec55d3db4e989047cf950fd36265": {
      "model_module": "@jupyter-widgets/base",
      "model_module_version": "1.0.0",
      "model_name": "LayoutModel",
      "state": {}
     },
     "ded34a9f5f564f07863bc4ec55ab7d71": {
      "model_module": "@jupyter-widgets/controls",
      "model_module_version": "1.1.0",
      "model_name": "HBoxModel",
      "state": {
       "children": [
        "IPY_MODEL_69579489882c479b9aabc18a0bca27cc",
        "IPY_MODEL_001e5d6eb0bc4f599aa07caf054cca6c",
        "IPY_MODEL_dbf6b5b0d4c4404e8407e0c156b6c30f"
       ],
       "layout": "IPY_MODEL_344beb0755ae4610b1e27382cccb222c"
      }
     },
     "deec8388e4344135b3265b36ed3de4c4": {
      "model_module": "@jupyter-widgets/controls",
      "model_module_version": "1.1.0",
      "model_name": "TextModel",
      "state": {
       "layout": "IPY_MODEL_4597bea6b0d3496a903d771ffb254bcf",
       "placeholder": "Type something",
       "style": "IPY_MODEL_b0b8cc3ff4b7421492289c7f61b8385a",
       "value": "Task"
      }
     },
     "df00e97db65b4cba9c9db3b6ee096b55": {
      "model_module": "@jupyter-widgets/controls",
      "model_module_version": "1.1.0",
      "model_name": "VBoxModel",
      "state": {
       "children": [
        "IPY_MODEL_df85e3ad364e4e91b60b386a439c7097"
       ],
       "layout": "IPY_MODEL_d2fbf7e2a9b0413786c5395a7022101b"
      }
     },
     "df6dc028444f4cce974ebe28044e2b9e": {
      "model_module": "@jupyter-widgets/base",
      "model_module_version": "1.0.0",
      "model_name": "LayoutModel",
      "state": {}
     },
     "df85e3ad364e4e91b60b386a439c7097": {
      "model_module": "@jupyter-widgets/controls",
      "model_module_version": "1.1.0",
      "model_name": "TextModel",
      "state": {
       "layout": "IPY_MODEL_ecb08bee59024d80810f4279d1b47f4d",
       "placeholder": "Type something",
       "style": "IPY_MODEL_e66c1dba5ae64840aa1d762feef6fcd7",
       "value": "Task"
      }
     },
     "dfde172b52934fe0a91f17b2b85bf0dd": {
      "model_module": "@jupyter-widgets/controls",
      "model_module_version": "1.1.0",
      "model_name": "VBoxModel",
      "state": {
       "children": [
        "IPY_MODEL_0fe38b6eacbe4127bc12c40b71f70900"
       ],
       "layout": "IPY_MODEL_6a2c8ba2af4b4b6f851a66f4ba7b70fa"
      }
     },
     "e255665a227d4255898443189a068735": {
      "model_module": "@jupyter-widgets/base",
      "model_module_version": "1.0.0",
      "model_name": "LayoutModel",
      "state": {}
     },
     "e43c6d0a68624c76998d492919d332c4": {
      "model_module": "@jupyter-widgets/base",
      "model_module_version": "1.0.0",
      "model_name": "LayoutModel",
      "state": {}
     },
     "e5afc0781a6d4848b58c9960e87fb41f": {
      "model_module": "@jupyter-widgets/controls",
      "model_module_version": "1.1.0",
      "model_name": "DescriptionStyleModel",
      "state": {
       "description_width": ""
      }
     },
     "e66c1dba5ae64840aa1d762feef6fcd7": {
      "model_module": "@jupyter-widgets/controls",
      "model_module_version": "1.1.0",
      "model_name": "DescriptionStyleModel",
      "state": {
       "description_width": ""
      }
     },
     "e81b51116da947ba9988a7c59cb1fe64": {
      "model_module": "@jupyter-widgets/base",
      "model_module_version": "1.0.0",
      "model_name": "LayoutModel",
      "state": {}
     },
     "e904867084c548e4bfe7fd80600fa718": {
      "model_module": "@jupyter-widgets/controls",
      "model_module_version": "1.1.0",
      "model_name": "TextModel",
      "state": {
       "layout": "IPY_MODEL_ab887b5483744d7b995271a25ec2392b",
       "placeholder": "Type something",
       "style": "IPY_MODEL_eaf2832028514fc4a17438e7bc7faa7d",
       "value": "author"
      }
     },
     "e9a8489615484cb9ac48fade58537307": {
      "model_module": "@jupyter-widgets/controls",
      "model_module_version": "1.1.0",
      "model_name": "DescriptionStyleModel",
      "state": {
       "description_width": ""
      }
     },
     "e9b0752daee24395bfebab697b10d783": {
      "model_module": "@jupyter-widgets/base",
      "model_module_version": "1.0.0",
      "model_name": "LayoutModel",
      "state": {}
     },
     "eaf2832028514fc4a17438e7bc7faa7d": {
      "model_module": "@jupyter-widgets/controls",
      "model_module_version": "1.1.0",
      "model_name": "DescriptionStyleModel",
      "state": {
       "description_width": ""
      }
     },
     "ebfc559eb7ee4277becd17180dda532b": {
      "model_module": "@jupyter-widgets/controls",
      "model_module_version": "1.1.0",
      "model_name": "TextModel",
      "state": {
       "layout": "IPY_MODEL_806aa254929b4bec9a4229a68ce59b96",
       "placeholder": "Type something",
       "style": "IPY_MODEL_bab2a38887dd470e84198a0ccc2f67ea",
       "value": "Task_value"
      }
     },
     "ec300e692c6a4bcbbd1866f20476f529": {
      "model_module": "@jupyter-widgets/controls",
      "model_module_version": "1.1.0",
      "model_name": "DescriptionStyleModel",
      "state": {
       "description_width": ""
      }
     },
     "ecb08bee59024d80810f4279d1b47f4d": {
      "model_module": "@jupyter-widgets/base",
      "model_module_version": "1.0.0",
      "model_name": "LayoutModel",
      "state": {}
     },
     "ecf6b27467c04ed6ae3fcfb8481ebd81": {
      "model_module": "@jupyter-widgets/base",
      "model_module_version": "1.0.0",
      "model_name": "LayoutModel",
      "state": {}
     },
     "ed923b13e2a445dd9bf267a4a737eda1": {
      "model_module": "@jupyter-widgets/base",
      "model_module_version": "1.0.0",
      "model_name": "LayoutModel",
      "state": {}
     },
     "eec61b5187cf4b1d918257686baad6cb": {
      "model_module": "@jupyter-widgets/base",
      "model_module_version": "1.0.0",
      "model_name": "LayoutModel",
      "state": {}
     },
     "efe413e943c6442a961ad0cf6265fd6a": {
      "model_module": "@jupyter-widgets/base",
      "model_module_version": "1.0.0",
      "model_name": "LayoutModel",
      "state": {}
     },
     "f0f722f84d5148099cabee332303fd0e": {
      "model_module": "@jupyter-widgets/base",
      "model_module_version": "1.0.0",
      "model_name": "LayoutModel",
      "state": {}
     },
     "f39812ea55e444b59844fc5565d478c2": {
      "model_module": "@jupyter-widgets/controls",
      "model_module_version": "1.1.0",
      "model_name": "TextModel",
      "state": {
       "layout": "IPY_MODEL_b523dc7ea1ac4e1ca8fe516c6cc670ac",
       "placeholder": "Type something",
       "style": "IPY_MODEL_20d673e7842948bfb19e1b3fe36cb164",
       "value": "author"
      }
     },
     "f3f727f2bf534776a36381756cc6e825": {
      "model_module": "@jupyter-widgets/controls",
      "model_module_version": "1.1.0",
      "model_name": "TextModel",
      "state": {
       "layout": "IPY_MODEL_f0f722f84d5148099cabee332303fd0e",
       "placeholder": "Type something",
       "style": "IPY_MODEL_d538ef7bd331421e9b64767ef84dea23",
       "value": "author"
      }
     },
     "f4ed3eb04f6c475584d0b798b3aa3234": {
      "model_module": "@jupyter-widgets/base",
      "model_module_version": "1.0.0",
      "model_name": "LayoutModel",
      "state": {}
     },
     "f5008dd545b540d38942ca3478ce3cb1": {
      "model_module": "@jupyter-widgets/controls",
      "model_module_version": "1.1.0",
      "model_name": "VBoxModel",
      "state": {
       "children": [
        "IPY_MODEL_ceff156eb14a4a40b0088a72b3325c5a",
        "IPY_MODEL_db3fcdc91bbf461280b8d5836f8c6bde"
       ],
       "layout": "IPY_MODEL_270170e137f040da8247b8c9ac26d09c"
      }
     },
     "f5082d8224684a5b971ac93501d14bcf": {
      "model_module": "@jupyter-widgets/base",
      "model_module_version": "1.0.0",
      "model_name": "LayoutModel",
      "state": {}
     },
     "f668a99486464b0ab09d08bb1556ee27": {
      "model_module": "@jupyter-widgets/base",
      "model_module_version": "1.0.0",
      "model_name": "LayoutModel",
      "state": {}
     },
     "f678f6376e924edc9b488e94a850b24a": {
      "model_module": "@jupyter-widgets/controls",
      "model_module_version": "1.1.0",
      "model_name": "VBoxModel",
      "state": {
       "children": [
        "IPY_MODEL_f39812ea55e444b59844fc5565d478c2",
        "IPY_MODEL_252b278ebdac41bfa992f5da7de05650"
       ],
       "layout": "IPY_MODEL_c5fa06dca6a343a1902407a65ac3dfe1"
      }
     },
     "f684be28b02f45c2ae8ff1dd79e311f6": {
      "model_module": "@jupyter-widgets/controls",
      "model_module_version": "1.1.0",
      "model_name": "HBoxModel",
      "state": {
       "children": [
        "IPY_MODEL_0727847047734d4dafe0e773b26cd3a6",
        "IPY_MODEL_72b68d37b6414103afac0fb16cf50d90",
        "IPY_MODEL_f678f6376e924edc9b488e94a850b24a"
       ],
       "layout": "IPY_MODEL_5ff9af55cc044072b0bf65fd45252473"
      }
     },
     "f6bd3becf7b94715bc7ddc80183b0092": {
      "model_module": "@jupyter-widgets/controls",
      "model_module_version": "1.1.0",
      "model_name": "TextModel",
      "state": {
       "layout": "IPY_MODEL_380bd4562cfd43ccb9bd2a16941e4cfd",
       "placeholder": "Type something",
       "style": "IPY_MODEL_5d182f0b701d4293b76edbecefed64ef",
       "value": "Task_value"
      }
     },
     "f7406d27dd9d462ca08cbedeb25e6e40": {
      "model_module": "@jupyter-widgets/base",
      "model_module_version": "1.0.0",
      "model_name": "LayoutModel",
      "state": {}
     },
     "f7b5ac9f08d24dd3ad118d07cb333d35": {
      "model_module": "@jupyter-widgets/controls",
      "model_module_version": "1.1.0",
      "model_name": "VBoxModel",
      "state": {
       "children": [
        "IPY_MODEL_917a7b58183049e180182b2720513684",
        "IPY_MODEL_3e702565ea764cdb89ab9725c8bb2d48"
       ],
       "layout": "IPY_MODEL_7612259ba6e54557b7393e4e2c0771c9"
      }
     },
     "f8cda4f680aa4f0e915aa36302671855": {
      "model_module": "@jupyter-widgets/controls",
      "model_module_version": "1.1.0",
      "model_name": "TextModel",
      "state": {
       "layout": "IPY_MODEL_04c94cb1af544ebaa3bea301144ffa5d",
       "placeholder": "Type something",
       "style": "IPY_MODEL_6ba70e4df7eb4de184e51d6f27ae8128",
       "value": "author"
      }
     },
     "fb2eee587d274a26bfe79dab1bc3f59f": {
      "model_module": "@jupyter-widgets/base",
      "model_module_version": "1.0.0",
      "model_name": "LayoutModel",
      "state": {}
     },
     "fbbed6428dd64911bc12b9a858748be2": {
      "model_module": "@jupyter-widgets/base",
      "model_module_version": "1.0.0",
      "model_name": "LayoutModel",
      "state": {}
     },
     "fe624b4c316a426f8d0868e01588a6a7": {
      "model_module": "@jupyter-widgets/controls",
      "model_module_version": "1.1.0",
      "model_name": "TextModel",
      "state": {
       "layout": "IPY_MODEL_d4d6d9d553b64a54ae25606f33a0af87",
       "placeholder": "Type something",
       "style": "IPY_MODEL_1d054005aa854e378eb10c6da99bcb19",
       "value": "author1"
      }
     },
     "fe8b78d1ba974214a27441db9e187094": {
      "model_module": "@jupyter-widgets/base",
      "model_module_version": "1.0.0",
      "model_name": "LayoutModel",
      "state": {}
     },
     "ff8a292df8af42849a6653f225da66b0": {
      "model_module": "@jupyter-widgets/controls",
      "model_module_version": "1.1.0",
      "model_name": "DescriptionStyleModel",
      "state": {
       "description_width": ""
      }
     }
    },
    "version_major": 2,
    "version_minor": 0
   }
  }
 },
 "nbformat": 4,
 "nbformat_minor": 2
}
